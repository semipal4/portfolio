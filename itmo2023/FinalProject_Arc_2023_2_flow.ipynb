{
  "cells": [
    {
      "cell_type": "markdown",
      "id": "5866a78b",
      "metadata": {
        "id": "5866a78b"
      },
      "source": [
        "#### Описание набора данных для исследования:\n",
        "\n",
        "Источник - https://www.kaggle.com/datasets/devansodariya/student-performance-data\n",
        "\n",
        "Объем набора данных составляет  395 записей. Имя файла с исходными данными student_data.csv.\n",
        "\n",
        "#### Исходные данные содержат следующую информацию:\n",
        "\n",
        "  \n",
        "1. school - student's school (binary: 'GP' - Gabriel Pereira or 'MS' - Mousinho da Silveira)\n",
        "2. sex - student's sex (binary: 'F' - female or 'M' - male)\n",
        "3. age - student's age (numeric: from 15 to 22)\n",
        "4. address - student's home address type (binary: 'U' - urban or 'R' - rural)\n",
        "5. famsize - family size (binary: 'LE3' - less or equal to 3 or 'GT3' - greater than 3)\n",
        "6. Pstatus - parent's cohabitation status (binary: 'T' - living together or 'A' - apart)\n",
        "7. Medu - mother's education (numeric: 0 - none, 1 - primary education (4th grade), 2 – 5th to 9th grade, 3 – secondary education or 4 – higher education)\n",
        "8. Fedu - father's education (numeric: 0 - none, 1 - primary education (4th grade), 2 – 5th to 9th grade, 3 – secondary education or 4 – higher education)\n",
        "9. Mjob - mother's job (nominal: 'teacher', 'health' care related, civil 'services' (e.g. administrative or police), 'at_home' or 'other')\n",
        "10. Fjob - father's job (nominal: 'teacher', 'health' care related, civil 'services' (e.g. administrative or police), 'at_home' or 'other')\n",
        "11. reason - reason to choose this school (nominal: close to 'home', school 'reputation', 'course' preference or 'other')\n",
        "12. guardian - student's guardian (nominal: 'mother', 'father' or 'other')\n",
        "13. traveltime - home to school travel time (numeric: 1 - <15 min., 2 - 15 to 30 min., 3 - 30 min. to 1 hour, or 4 - >1 hour)\n",
        "14. studytime - weekly study time (numeric: 1 - <2 hours, 2 - 2 to 5 hours, 3 - 5 to 10 hours, or 4 - >10 hours)\n",
        "15. failures - number of past class failures (numeric: n if 1<=n<3, else 4)\n",
        "16. schoolsup - extra educational support (binary: yes or no)\n",
        "17. famsup - family educational support (binary: yes or no)\n",
        "18. paid - extra paid classes within the course subject (Math or Portuguese) (binary: yes or no)\n",
        "19. activities - extra-curricular activities (binary: yes or no)\n",
        "20. nursery - attended nursery school (binary: yes or no)\n",
        "21. higher - wants to take higher education (binary: yes or no)\n",
        "22. internet - Internet access at home (binary: yes or no)\n",
        "23. romantic - with a romantic relationship (binary: yes or no)\n",
        "24. famrel - quality of family relationships (numeric: from 1 - very bad to 5 - excellent)\n",
        "25. freetime - free time after school (numeric: from 1 - very low to 5 - very high)\n",
        "26. goout - going out with friends (numeric: from 1 - very low to 5 - very high)\n",
        "27. Dalc - workday alcohol consumption (numeric: from 1 - very low to 5 - very high)\n",
        "28. Walc - weekend alcohol consumption (numeric: from 1 - very low to 5 - very high)\n",
        "29. health - current health status (numeric: from 1 - very bad to 5 - very good)\n",
        "30. absences - number of school absences (numeric: from 0 to 93)\n",
        "31. G1 - first period grade (numeric: from 0 to 20)\n",
        "32. G2 - second period grade (numeric: from 0 to 20)\n",
        "\n",
        "33. G3 - final grade (numeric: from 0 to 20, output target)"
      ]
    },
    {
      "cell_type": "markdown",
      "source": [
        "Постановка задачи: как окружающая среда влияет на успеваемость студентов. Можно ли по имеющимся показателям внешней среды предсказать как студент справиться с программой курса?"
      ],
      "metadata": {
        "id": "HSswzcHEIW6h"
      },
      "id": "HSswzcHEIW6h"
    },
    {
      "cell_type": "code",
      "execution_count": 60,
      "id": "02d143ca",
      "metadata": {
        "id": "02d143ca",
        "colab": {
          "base_uri": "https://localhost:8080/",
          "height": 236
        },
        "outputId": "6d3c38cc-7533-4adb-f802-b00a72f416db"
      },
      "outputs": [
        {
          "output_type": "execute_result",
          "data": {
            "text/plain": [
              "  school sex  age address famsize Pstatus  Medu  Fedu     Mjob      Fjob  ...  \\\n",
              "0     GP   F   18       U     GT3       A     4     4  at_home   teacher  ...   \n",
              "1     GP   F   17       U     GT3       T     1     1  at_home     other  ...   \n",
              "2     GP   F   15       U     LE3       T     1     1  at_home     other  ...   \n",
              "3     GP   F   15       U     GT3       T     4     2   health  services  ...   \n",
              "4     GP   F   16       U     GT3       T     3     3    other     other  ...   \n",
              "\n",
              "  famrel freetime  goout  Dalc  Walc health absences  G1  G2  G3  \n",
              "0      4        3      4     1     1      3        6   5   6   6  \n",
              "1      5        3      3     1     1      3        4   5   5   6  \n",
              "2      4        3      2     2     3      3       10   7   8  10  \n",
              "3      3        2      2     1     1      5        2  15  14  15  \n",
              "4      4        3      2     1     2      5        4   6  10  10  \n",
              "\n",
              "[5 rows x 33 columns]"
            ],
            "text/html": [
              "\n",
              "  <div id=\"df-fdee181c-57ad-4563-b90c-e2b6ca8b510e\" class=\"colab-df-container\">\n",
              "    <div>\n",
              "<style scoped>\n",
              "    .dataframe tbody tr th:only-of-type {\n",
              "        vertical-align: middle;\n",
              "    }\n",
              "\n",
              "    .dataframe tbody tr th {\n",
              "        vertical-align: top;\n",
              "    }\n",
              "\n",
              "    .dataframe thead th {\n",
              "        text-align: right;\n",
              "    }\n",
              "</style>\n",
              "<table border=\"1\" class=\"dataframe\">\n",
              "  <thead>\n",
              "    <tr style=\"text-align: right;\">\n",
              "      <th></th>\n",
              "      <th>school</th>\n",
              "      <th>sex</th>\n",
              "      <th>age</th>\n",
              "      <th>address</th>\n",
              "      <th>famsize</th>\n",
              "      <th>Pstatus</th>\n",
              "      <th>Medu</th>\n",
              "      <th>Fedu</th>\n",
              "      <th>Mjob</th>\n",
              "      <th>Fjob</th>\n",
              "      <th>...</th>\n",
              "      <th>famrel</th>\n",
              "      <th>freetime</th>\n",
              "      <th>goout</th>\n",
              "      <th>Dalc</th>\n",
              "      <th>Walc</th>\n",
              "      <th>health</th>\n",
              "      <th>absences</th>\n",
              "      <th>G1</th>\n",
              "      <th>G2</th>\n",
              "      <th>G3</th>\n",
              "    </tr>\n",
              "  </thead>\n",
              "  <tbody>\n",
              "    <tr>\n",
              "      <th>0</th>\n",
              "      <td>GP</td>\n",
              "      <td>F</td>\n",
              "      <td>18</td>\n",
              "      <td>U</td>\n",
              "      <td>GT3</td>\n",
              "      <td>A</td>\n",
              "      <td>4</td>\n",
              "      <td>4</td>\n",
              "      <td>at_home</td>\n",
              "      <td>teacher</td>\n",
              "      <td>...</td>\n",
              "      <td>4</td>\n",
              "      <td>3</td>\n",
              "      <td>4</td>\n",
              "      <td>1</td>\n",
              "      <td>1</td>\n",
              "      <td>3</td>\n",
              "      <td>6</td>\n",
              "      <td>5</td>\n",
              "      <td>6</td>\n",
              "      <td>6</td>\n",
              "    </tr>\n",
              "    <tr>\n",
              "      <th>1</th>\n",
              "      <td>GP</td>\n",
              "      <td>F</td>\n",
              "      <td>17</td>\n",
              "      <td>U</td>\n",
              "      <td>GT3</td>\n",
              "      <td>T</td>\n",
              "      <td>1</td>\n",
              "      <td>1</td>\n",
              "      <td>at_home</td>\n",
              "      <td>other</td>\n",
              "      <td>...</td>\n",
              "      <td>5</td>\n",
              "      <td>3</td>\n",
              "      <td>3</td>\n",
              "      <td>1</td>\n",
              "      <td>1</td>\n",
              "      <td>3</td>\n",
              "      <td>4</td>\n",
              "      <td>5</td>\n",
              "      <td>5</td>\n",
              "      <td>6</td>\n",
              "    </tr>\n",
              "    <tr>\n",
              "      <th>2</th>\n",
              "      <td>GP</td>\n",
              "      <td>F</td>\n",
              "      <td>15</td>\n",
              "      <td>U</td>\n",
              "      <td>LE3</td>\n",
              "      <td>T</td>\n",
              "      <td>1</td>\n",
              "      <td>1</td>\n",
              "      <td>at_home</td>\n",
              "      <td>other</td>\n",
              "      <td>...</td>\n",
              "      <td>4</td>\n",
              "      <td>3</td>\n",
              "      <td>2</td>\n",
              "      <td>2</td>\n",
              "      <td>3</td>\n",
              "      <td>3</td>\n",
              "      <td>10</td>\n",
              "      <td>7</td>\n",
              "      <td>8</td>\n",
              "      <td>10</td>\n",
              "    </tr>\n",
              "    <tr>\n",
              "      <th>3</th>\n",
              "      <td>GP</td>\n",
              "      <td>F</td>\n",
              "      <td>15</td>\n",
              "      <td>U</td>\n",
              "      <td>GT3</td>\n",
              "      <td>T</td>\n",
              "      <td>4</td>\n",
              "      <td>2</td>\n",
              "      <td>health</td>\n",
              "      <td>services</td>\n",
              "      <td>...</td>\n",
              "      <td>3</td>\n",
              "      <td>2</td>\n",
              "      <td>2</td>\n",
              "      <td>1</td>\n",
              "      <td>1</td>\n",
              "      <td>5</td>\n",
              "      <td>2</td>\n",
              "      <td>15</td>\n",
              "      <td>14</td>\n",
              "      <td>15</td>\n",
              "    </tr>\n",
              "    <tr>\n",
              "      <th>4</th>\n",
              "      <td>GP</td>\n",
              "      <td>F</td>\n",
              "      <td>16</td>\n",
              "      <td>U</td>\n",
              "      <td>GT3</td>\n",
              "      <td>T</td>\n",
              "      <td>3</td>\n",
              "      <td>3</td>\n",
              "      <td>other</td>\n",
              "      <td>other</td>\n",
              "      <td>...</td>\n",
              "      <td>4</td>\n",
              "      <td>3</td>\n",
              "      <td>2</td>\n",
              "      <td>1</td>\n",
              "      <td>2</td>\n",
              "      <td>5</td>\n",
              "      <td>4</td>\n",
              "      <td>6</td>\n",
              "      <td>10</td>\n",
              "      <td>10</td>\n",
              "    </tr>\n",
              "  </tbody>\n",
              "</table>\n",
              "<p>5 rows × 33 columns</p>\n",
              "</div>\n",
              "    <div class=\"colab-df-buttons\">\n",
              "\n",
              "  <div class=\"colab-df-container\">\n",
              "    <button class=\"colab-df-convert\" onclick=\"convertToInteractive('df-fdee181c-57ad-4563-b90c-e2b6ca8b510e')\"\n",
              "            title=\"Convert this dataframe to an interactive table.\"\n",
              "            style=\"display:none;\">\n",
              "\n",
              "  <svg xmlns=\"http://www.w3.org/2000/svg\" height=\"24px\" viewBox=\"0 -960 960 960\">\n",
              "    <path d=\"M120-120v-720h720v720H120Zm60-500h600v-160H180v160Zm220 220h160v-160H400v160Zm0 220h160v-160H400v160ZM180-400h160v-160H180v160Zm440 0h160v-160H620v160ZM180-180h160v-160H180v160Zm440 0h160v-160H620v160Z\"/>\n",
              "  </svg>\n",
              "    </button>\n",
              "\n",
              "  <style>\n",
              "    .colab-df-container {\n",
              "      display:flex;\n",
              "      gap: 12px;\n",
              "    }\n",
              "\n",
              "    .colab-df-convert {\n",
              "      background-color: #E8F0FE;\n",
              "      border: none;\n",
              "      border-radius: 50%;\n",
              "      cursor: pointer;\n",
              "      display: none;\n",
              "      fill: #1967D2;\n",
              "      height: 32px;\n",
              "      padding: 0 0 0 0;\n",
              "      width: 32px;\n",
              "    }\n",
              "\n",
              "    .colab-df-convert:hover {\n",
              "      background-color: #E2EBFA;\n",
              "      box-shadow: 0px 1px 2px rgba(60, 64, 67, 0.3), 0px 1px 3px 1px rgba(60, 64, 67, 0.15);\n",
              "      fill: #174EA6;\n",
              "    }\n",
              "\n",
              "    .colab-df-buttons div {\n",
              "      margin-bottom: 4px;\n",
              "    }\n",
              "\n",
              "    [theme=dark] .colab-df-convert {\n",
              "      background-color: #3B4455;\n",
              "      fill: #D2E3FC;\n",
              "    }\n",
              "\n",
              "    [theme=dark] .colab-df-convert:hover {\n",
              "      background-color: #434B5C;\n",
              "      box-shadow: 0px 1px 3px 1px rgba(0, 0, 0, 0.15);\n",
              "      filter: drop-shadow(0px 1px 2px rgba(0, 0, 0, 0.3));\n",
              "      fill: #FFFFFF;\n",
              "    }\n",
              "  </style>\n",
              "\n",
              "    <script>\n",
              "      const buttonEl =\n",
              "        document.querySelector('#df-fdee181c-57ad-4563-b90c-e2b6ca8b510e button.colab-df-convert');\n",
              "      buttonEl.style.display =\n",
              "        google.colab.kernel.accessAllowed ? 'block' : 'none';\n",
              "\n",
              "      async function convertToInteractive(key) {\n",
              "        const element = document.querySelector('#df-fdee181c-57ad-4563-b90c-e2b6ca8b510e');\n",
              "        const dataTable =\n",
              "          await google.colab.kernel.invokeFunction('convertToInteractive',\n",
              "                                                    [key], {});\n",
              "        if (!dataTable) return;\n",
              "\n",
              "        const docLinkHtml = 'Like what you see? Visit the ' +\n",
              "          '<a target=\"_blank\" href=https://colab.research.google.com/notebooks/data_table.ipynb>data table notebook</a>'\n",
              "          + ' to learn more about interactive tables.';\n",
              "        element.innerHTML = '';\n",
              "        dataTable['output_type'] = 'display_data';\n",
              "        await google.colab.output.renderOutput(dataTable, element);\n",
              "        const docLink = document.createElement('div');\n",
              "        docLink.innerHTML = docLinkHtml;\n",
              "        element.appendChild(docLink);\n",
              "      }\n",
              "    </script>\n",
              "  </div>\n",
              "\n",
              "\n",
              "<div id=\"df-aee575ad-5714-475e-80f5-3a4c916c8598\">\n",
              "  <button class=\"colab-df-quickchart\" onclick=\"quickchart('df-aee575ad-5714-475e-80f5-3a4c916c8598')\"\n",
              "            title=\"Suggest charts\"\n",
              "            style=\"display:none;\">\n",
              "\n",
              "<svg xmlns=\"http://www.w3.org/2000/svg\" height=\"24px\"viewBox=\"0 0 24 24\"\n",
              "     width=\"24px\">\n",
              "    <g>\n",
              "        <path d=\"M19 3H5c-1.1 0-2 .9-2 2v14c0 1.1.9 2 2 2h14c1.1 0 2-.9 2-2V5c0-1.1-.9-2-2-2zM9 17H7v-7h2v7zm4 0h-2V7h2v10zm4 0h-2v-4h2v4z\"/>\n",
              "    </g>\n",
              "</svg>\n",
              "  </button>\n",
              "\n",
              "<style>\n",
              "  .colab-df-quickchart {\n",
              "      --bg-color: #E8F0FE;\n",
              "      --fill-color: #1967D2;\n",
              "      --hover-bg-color: #E2EBFA;\n",
              "      --hover-fill-color: #174EA6;\n",
              "      --disabled-fill-color: #AAA;\n",
              "      --disabled-bg-color: #DDD;\n",
              "  }\n",
              "\n",
              "  [theme=dark] .colab-df-quickchart {\n",
              "      --bg-color: #3B4455;\n",
              "      --fill-color: #D2E3FC;\n",
              "      --hover-bg-color: #434B5C;\n",
              "      --hover-fill-color: #FFFFFF;\n",
              "      --disabled-bg-color: #3B4455;\n",
              "      --disabled-fill-color: #666;\n",
              "  }\n",
              "\n",
              "  .colab-df-quickchart {\n",
              "    background-color: var(--bg-color);\n",
              "    border: none;\n",
              "    border-radius: 50%;\n",
              "    cursor: pointer;\n",
              "    display: none;\n",
              "    fill: var(--fill-color);\n",
              "    height: 32px;\n",
              "    padding: 0;\n",
              "    width: 32px;\n",
              "  }\n",
              "\n",
              "  .colab-df-quickchart:hover {\n",
              "    background-color: var(--hover-bg-color);\n",
              "    box-shadow: 0 1px 2px rgba(60, 64, 67, 0.3), 0 1px 3px 1px rgba(60, 64, 67, 0.15);\n",
              "    fill: var(--button-hover-fill-color);\n",
              "  }\n",
              "\n",
              "  .colab-df-quickchart-complete:disabled,\n",
              "  .colab-df-quickchart-complete:disabled:hover {\n",
              "    background-color: var(--disabled-bg-color);\n",
              "    fill: var(--disabled-fill-color);\n",
              "    box-shadow: none;\n",
              "  }\n",
              "\n",
              "  .colab-df-spinner {\n",
              "    border: 2px solid var(--fill-color);\n",
              "    border-color: transparent;\n",
              "    border-bottom-color: var(--fill-color);\n",
              "    animation:\n",
              "      spin 1s steps(1) infinite;\n",
              "  }\n",
              "\n",
              "  @keyframes spin {\n",
              "    0% {\n",
              "      border-color: transparent;\n",
              "      border-bottom-color: var(--fill-color);\n",
              "      border-left-color: var(--fill-color);\n",
              "    }\n",
              "    20% {\n",
              "      border-color: transparent;\n",
              "      border-left-color: var(--fill-color);\n",
              "      border-top-color: var(--fill-color);\n",
              "    }\n",
              "    30% {\n",
              "      border-color: transparent;\n",
              "      border-left-color: var(--fill-color);\n",
              "      border-top-color: var(--fill-color);\n",
              "      border-right-color: var(--fill-color);\n",
              "    }\n",
              "    40% {\n",
              "      border-color: transparent;\n",
              "      border-right-color: var(--fill-color);\n",
              "      border-top-color: var(--fill-color);\n",
              "    }\n",
              "    60% {\n",
              "      border-color: transparent;\n",
              "      border-right-color: var(--fill-color);\n",
              "    }\n",
              "    80% {\n",
              "      border-color: transparent;\n",
              "      border-right-color: var(--fill-color);\n",
              "      border-bottom-color: var(--fill-color);\n",
              "    }\n",
              "    90% {\n",
              "      border-color: transparent;\n",
              "      border-bottom-color: var(--fill-color);\n",
              "    }\n",
              "  }\n",
              "</style>\n",
              "\n",
              "  <script>\n",
              "    async function quickchart(key) {\n",
              "      const quickchartButtonEl =\n",
              "        document.querySelector('#' + key + ' button');\n",
              "      quickchartButtonEl.disabled = true;  // To prevent multiple clicks.\n",
              "      quickchartButtonEl.classList.add('colab-df-spinner');\n",
              "      try {\n",
              "        const charts = await google.colab.kernel.invokeFunction(\n",
              "            'suggestCharts', [key], {});\n",
              "      } catch (error) {\n",
              "        console.error('Error during call to suggestCharts:', error);\n",
              "      }\n",
              "      quickchartButtonEl.classList.remove('colab-df-spinner');\n",
              "      quickchartButtonEl.classList.add('colab-df-quickchart-complete');\n",
              "    }\n",
              "    (() => {\n",
              "      let quickchartButtonEl =\n",
              "        document.querySelector('#df-aee575ad-5714-475e-80f5-3a4c916c8598 button');\n",
              "      quickchartButtonEl.style.display =\n",
              "        google.colab.kernel.accessAllowed ? 'block' : 'none';\n",
              "    })();\n",
              "  </script>\n",
              "</div>\n",
              "    </div>\n",
              "  </div>\n"
            ]
          },
          "metadata": {},
          "execution_count": 60
        }
      ],
      "source": [
        "import numpy as np\n",
        "import pandas as pd\n",
        "\n",
        "import matplotlib as mpl\n",
        "import matplotlib.pyplot as plt\n",
        "%matplotlib inline\n",
        "\n",
        "from sklearn import metrics\n",
        "from sklearn import preprocessing\n",
        "\n",
        "import seaborn as sns\n",
        "\n",
        "csv=pd.read_csv(r'student_data.csv')\n",
        "csv.head(5)"
      ]
    },
    {
      "cell_type": "markdown",
      "id": "386179f7",
      "metadata": {
        "id": "386179f7"
      },
      "source": [
        "Проверим качество и состав наших данных."
      ]
    },
    {
      "cell_type": "code",
      "execution_count": 61,
      "id": "515fa995",
      "metadata": {
        "colab": {
          "base_uri": "https://localhost:8080/"
        },
        "id": "515fa995",
        "outputId": "97577956-8e6d-4450-8fff-c19acdb0767c"
      },
      "outputs": [
        {
          "output_type": "execute_result",
          "data": {
            "text/plain": [
              "school        object\n",
              "sex           object\n",
              "age            int64\n",
              "address       object\n",
              "famsize       object\n",
              "Pstatus       object\n",
              "Medu           int64\n",
              "Fedu           int64\n",
              "Mjob          object\n",
              "Fjob          object\n",
              "reason        object\n",
              "guardian      object\n",
              "traveltime     int64\n",
              "studytime      int64\n",
              "failures       int64\n",
              "schoolsup     object\n",
              "famsup        object\n",
              "paid          object\n",
              "activities    object\n",
              "nursery       object\n",
              "higher        object\n",
              "internet      object\n",
              "romantic      object\n",
              "famrel         int64\n",
              "freetime       int64\n",
              "goout          int64\n",
              "Dalc           int64\n",
              "Walc           int64\n",
              "health         int64\n",
              "absences       int64\n",
              "G1             int64\n",
              "G2             int64\n",
              "G3             int64\n",
              "dtype: object"
            ]
          },
          "metadata": {},
          "execution_count": 61
        }
      ],
      "source": [
        "#csv.columns\n",
        "csv.dtypes"
      ]
    },
    {
      "cell_type": "code",
      "execution_count": 62,
      "id": "9c8fbfd1",
      "metadata": {
        "colab": {
          "base_uri": "https://localhost:8080/"
        },
        "id": "9c8fbfd1",
        "outputId": "e82cb6f5-7638-44d9-fe17-316d7908955e"
      },
      "outputs": [
        {
          "output_type": "execute_result",
          "data": {
            "text/plain": [
              "['age',\n",
              " 'Medu',\n",
              " 'Fedu',\n",
              " 'traveltime',\n",
              " 'studytime',\n",
              " 'failures',\n",
              " 'famrel',\n",
              " 'freetime',\n",
              " 'goout',\n",
              " 'Dalc',\n",
              " 'Walc',\n",
              " 'health',\n",
              " 'absences',\n",
              " 'G1',\n",
              " 'G2',\n",
              " 'G3']"
            ]
          },
          "metadata": {},
          "execution_count": 62
        }
      ],
      "source": [
        "columns_int64=csv.select_dtypes(include=['int64']).columns.tolist()\n",
        "columns_int64"
      ]
    },
    {
      "cell_type": "code",
      "execution_count": 63,
      "id": "038b1ce0",
      "metadata": {
        "colab": {
          "base_uri": "https://localhost:8080/"
        },
        "id": "038b1ce0",
        "outputId": "11bbdaa9-b170-4320-f20e-22bf5679576e"
      },
      "outputs": [
        {
          "output_type": "execute_result",
          "data": {
            "text/plain": [
              "['school',\n",
              " 'sex',\n",
              " 'address',\n",
              " 'famsize',\n",
              " 'Pstatus',\n",
              " 'Mjob',\n",
              " 'Fjob',\n",
              " 'reason',\n",
              " 'guardian',\n",
              " 'schoolsup',\n",
              " 'famsup',\n",
              " 'paid',\n",
              " 'activities',\n",
              " 'nursery',\n",
              " 'higher',\n",
              " 'internet',\n",
              " 'romantic']"
            ]
          },
          "metadata": {},
          "execution_count": 63
        }
      ],
      "source": [
        "columns_object = csv.select_dtypes(include=['object']).columns.tolist()\n",
        "columns_object"
      ]
    },
    {
      "cell_type": "code",
      "execution_count": 64,
      "id": "78e28853",
      "metadata": {
        "colab": {
          "base_uri": "https://localhost:8080/"
        },
        "id": "78e28853",
        "outputId": "48b0bdf5-2a32-4340-c75a-af9f679f73ea"
      },
      "outputs": [
        {
          "output_type": "stream",
          "name": "stdout",
          "text": [
            "['GP' 'MS']\n",
            "['F' 'M']\n",
            "['U' 'R']\n",
            "['GT3' 'LE3']\n",
            "['A' 'T']\n",
            "['at_home' 'health' 'other' 'services' 'teacher']\n",
            "['teacher' 'other' 'services' 'health' 'at_home']\n",
            "['course' 'other' 'home' 'reputation']\n",
            "['mother' 'father' 'other']\n",
            "['yes' 'no']\n",
            "['no' 'yes']\n",
            "['no' 'yes']\n",
            "['no' 'yes']\n",
            "['yes' 'no']\n",
            "['yes' 'no']\n",
            "['no' 'yes']\n",
            "['no' 'yes']\n"
          ]
        }
      ],
      "source": [
        "csv_columns_object=csv.loc[:, columns_object]\n",
        "for col in csv_columns_object:\n",
        "  print(csv_columns_object[col].unique())"
      ]
    },
    {
      "cell_type": "markdown",
      "id": "f1980988",
      "metadata": {
        "id": "f1980988"
      },
      "source": [
        "Предикторами выспупают все поля, кроме  'G3' - это отклик в наших данных - грейд в выпускном классе."
      ]
    },
    {
      "cell_type": "code",
      "execution_count": 65,
      "id": "2b667766",
      "metadata": {
        "colab": {
          "base_uri": "https://localhost:8080/",
          "height": 300
        },
        "id": "2b667766",
        "outputId": "2e40b6e4-8919-47b7-c0b4-e5e89c63731d"
      },
      "outputs": [
        {
          "output_type": "execute_result",
          "data": {
            "text/plain": [
              "         age   Medu   Fedu  traveltime  studytime  failures  famrel  freetime  \\\n",
              "count  395.0  395.0  395.0       395.0      395.0     395.0   395.0     395.0   \n",
              "mean    16.7    2.7    2.5         1.4        2.0       0.3     3.9       3.2   \n",
              "std      1.3    1.1    1.1         0.7        0.8       0.7     0.9       1.0   \n",
              "min     15.0    0.0    0.0         1.0        1.0       0.0     1.0       1.0   \n",
              "25%     16.0    2.0    2.0         1.0        1.0       0.0     4.0       3.0   \n",
              "50%     17.0    3.0    2.0         1.0        2.0       0.0     4.0       3.0   \n",
              "75%     18.0    4.0    3.0         2.0        2.0       0.0     5.0       4.0   \n",
              "max     22.0    4.0    4.0         4.0        4.0       3.0     5.0       5.0   \n",
              "\n",
              "       goout   Dalc   Walc  health  absences     G1     G2     G3  \n",
              "count  395.0  395.0  395.0   395.0     395.0  395.0  395.0  395.0  \n",
              "mean     3.1    1.5    2.3     3.6       5.7   10.9   10.7   10.4  \n",
              "std      1.1    0.9    1.3     1.4       8.0    3.3    3.8    4.6  \n",
              "min      1.0    1.0    1.0     1.0       0.0    3.0    0.0    0.0  \n",
              "25%      2.0    1.0    1.0     3.0       0.0    8.0    9.0    8.0  \n",
              "50%      3.0    1.0    2.0     4.0       4.0   11.0   11.0   11.0  \n",
              "75%      4.0    2.0    3.0     5.0       8.0   13.0   13.0   14.0  \n",
              "max      5.0    5.0    5.0     5.0      75.0   19.0   19.0   20.0  "
            ],
            "text/html": [
              "\n",
              "  <div id=\"df-fe11aebf-ce69-4b5d-a174-c0bc8d541748\" class=\"colab-df-container\">\n",
              "    <div>\n",
              "<style scoped>\n",
              "    .dataframe tbody tr th:only-of-type {\n",
              "        vertical-align: middle;\n",
              "    }\n",
              "\n",
              "    .dataframe tbody tr th {\n",
              "        vertical-align: top;\n",
              "    }\n",
              "\n",
              "    .dataframe thead th {\n",
              "        text-align: right;\n",
              "    }\n",
              "</style>\n",
              "<table border=\"1\" class=\"dataframe\">\n",
              "  <thead>\n",
              "    <tr style=\"text-align: right;\">\n",
              "      <th></th>\n",
              "      <th>age</th>\n",
              "      <th>Medu</th>\n",
              "      <th>Fedu</th>\n",
              "      <th>traveltime</th>\n",
              "      <th>studytime</th>\n",
              "      <th>failures</th>\n",
              "      <th>famrel</th>\n",
              "      <th>freetime</th>\n",
              "      <th>goout</th>\n",
              "      <th>Dalc</th>\n",
              "      <th>Walc</th>\n",
              "      <th>health</th>\n",
              "      <th>absences</th>\n",
              "      <th>G1</th>\n",
              "      <th>G2</th>\n",
              "      <th>G3</th>\n",
              "    </tr>\n",
              "  </thead>\n",
              "  <tbody>\n",
              "    <tr>\n",
              "      <th>count</th>\n",
              "      <td>395.0</td>\n",
              "      <td>395.0</td>\n",
              "      <td>395.0</td>\n",
              "      <td>395.0</td>\n",
              "      <td>395.0</td>\n",
              "      <td>395.0</td>\n",
              "      <td>395.0</td>\n",
              "      <td>395.0</td>\n",
              "      <td>395.0</td>\n",
              "      <td>395.0</td>\n",
              "      <td>395.0</td>\n",
              "      <td>395.0</td>\n",
              "      <td>395.0</td>\n",
              "      <td>395.0</td>\n",
              "      <td>395.0</td>\n",
              "      <td>395.0</td>\n",
              "    </tr>\n",
              "    <tr>\n",
              "      <th>mean</th>\n",
              "      <td>16.7</td>\n",
              "      <td>2.7</td>\n",
              "      <td>2.5</td>\n",
              "      <td>1.4</td>\n",
              "      <td>2.0</td>\n",
              "      <td>0.3</td>\n",
              "      <td>3.9</td>\n",
              "      <td>3.2</td>\n",
              "      <td>3.1</td>\n",
              "      <td>1.5</td>\n",
              "      <td>2.3</td>\n",
              "      <td>3.6</td>\n",
              "      <td>5.7</td>\n",
              "      <td>10.9</td>\n",
              "      <td>10.7</td>\n",
              "      <td>10.4</td>\n",
              "    </tr>\n",
              "    <tr>\n",
              "      <th>std</th>\n",
              "      <td>1.3</td>\n",
              "      <td>1.1</td>\n",
              "      <td>1.1</td>\n",
              "      <td>0.7</td>\n",
              "      <td>0.8</td>\n",
              "      <td>0.7</td>\n",
              "      <td>0.9</td>\n",
              "      <td>1.0</td>\n",
              "      <td>1.1</td>\n",
              "      <td>0.9</td>\n",
              "      <td>1.3</td>\n",
              "      <td>1.4</td>\n",
              "      <td>8.0</td>\n",
              "      <td>3.3</td>\n",
              "      <td>3.8</td>\n",
              "      <td>4.6</td>\n",
              "    </tr>\n",
              "    <tr>\n",
              "      <th>min</th>\n",
              "      <td>15.0</td>\n",
              "      <td>0.0</td>\n",
              "      <td>0.0</td>\n",
              "      <td>1.0</td>\n",
              "      <td>1.0</td>\n",
              "      <td>0.0</td>\n",
              "      <td>1.0</td>\n",
              "      <td>1.0</td>\n",
              "      <td>1.0</td>\n",
              "      <td>1.0</td>\n",
              "      <td>1.0</td>\n",
              "      <td>1.0</td>\n",
              "      <td>0.0</td>\n",
              "      <td>3.0</td>\n",
              "      <td>0.0</td>\n",
              "      <td>0.0</td>\n",
              "    </tr>\n",
              "    <tr>\n",
              "      <th>25%</th>\n",
              "      <td>16.0</td>\n",
              "      <td>2.0</td>\n",
              "      <td>2.0</td>\n",
              "      <td>1.0</td>\n",
              "      <td>1.0</td>\n",
              "      <td>0.0</td>\n",
              "      <td>4.0</td>\n",
              "      <td>3.0</td>\n",
              "      <td>2.0</td>\n",
              "      <td>1.0</td>\n",
              "      <td>1.0</td>\n",
              "      <td>3.0</td>\n",
              "      <td>0.0</td>\n",
              "      <td>8.0</td>\n",
              "      <td>9.0</td>\n",
              "      <td>8.0</td>\n",
              "    </tr>\n",
              "    <tr>\n",
              "      <th>50%</th>\n",
              "      <td>17.0</td>\n",
              "      <td>3.0</td>\n",
              "      <td>2.0</td>\n",
              "      <td>1.0</td>\n",
              "      <td>2.0</td>\n",
              "      <td>0.0</td>\n",
              "      <td>4.0</td>\n",
              "      <td>3.0</td>\n",
              "      <td>3.0</td>\n",
              "      <td>1.0</td>\n",
              "      <td>2.0</td>\n",
              "      <td>4.0</td>\n",
              "      <td>4.0</td>\n",
              "      <td>11.0</td>\n",
              "      <td>11.0</td>\n",
              "      <td>11.0</td>\n",
              "    </tr>\n",
              "    <tr>\n",
              "      <th>75%</th>\n",
              "      <td>18.0</td>\n",
              "      <td>4.0</td>\n",
              "      <td>3.0</td>\n",
              "      <td>2.0</td>\n",
              "      <td>2.0</td>\n",
              "      <td>0.0</td>\n",
              "      <td>5.0</td>\n",
              "      <td>4.0</td>\n",
              "      <td>4.0</td>\n",
              "      <td>2.0</td>\n",
              "      <td>3.0</td>\n",
              "      <td>5.0</td>\n",
              "      <td>8.0</td>\n",
              "      <td>13.0</td>\n",
              "      <td>13.0</td>\n",
              "      <td>14.0</td>\n",
              "    </tr>\n",
              "    <tr>\n",
              "      <th>max</th>\n",
              "      <td>22.0</td>\n",
              "      <td>4.0</td>\n",
              "      <td>4.0</td>\n",
              "      <td>4.0</td>\n",
              "      <td>4.0</td>\n",
              "      <td>3.0</td>\n",
              "      <td>5.0</td>\n",
              "      <td>5.0</td>\n",
              "      <td>5.0</td>\n",
              "      <td>5.0</td>\n",
              "      <td>5.0</td>\n",
              "      <td>5.0</td>\n",
              "      <td>75.0</td>\n",
              "      <td>19.0</td>\n",
              "      <td>19.0</td>\n",
              "      <td>20.0</td>\n",
              "    </tr>\n",
              "  </tbody>\n",
              "</table>\n",
              "</div>\n",
              "    <div class=\"colab-df-buttons\">\n",
              "\n",
              "  <div class=\"colab-df-container\">\n",
              "    <button class=\"colab-df-convert\" onclick=\"convertToInteractive('df-fe11aebf-ce69-4b5d-a174-c0bc8d541748')\"\n",
              "            title=\"Convert this dataframe to an interactive table.\"\n",
              "            style=\"display:none;\">\n",
              "\n",
              "  <svg xmlns=\"http://www.w3.org/2000/svg\" height=\"24px\" viewBox=\"0 -960 960 960\">\n",
              "    <path d=\"M120-120v-720h720v720H120Zm60-500h600v-160H180v160Zm220 220h160v-160H400v160Zm0 220h160v-160H400v160ZM180-400h160v-160H180v160Zm440 0h160v-160H620v160ZM180-180h160v-160H180v160Zm440 0h160v-160H620v160Z\"/>\n",
              "  </svg>\n",
              "    </button>\n",
              "\n",
              "  <style>\n",
              "    .colab-df-container {\n",
              "      display:flex;\n",
              "      gap: 12px;\n",
              "    }\n",
              "\n",
              "    .colab-df-convert {\n",
              "      background-color: #E8F0FE;\n",
              "      border: none;\n",
              "      border-radius: 50%;\n",
              "      cursor: pointer;\n",
              "      display: none;\n",
              "      fill: #1967D2;\n",
              "      height: 32px;\n",
              "      padding: 0 0 0 0;\n",
              "      width: 32px;\n",
              "    }\n",
              "\n",
              "    .colab-df-convert:hover {\n",
              "      background-color: #E2EBFA;\n",
              "      box-shadow: 0px 1px 2px rgba(60, 64, 67, 0.3), 0px 1px 3px 1px rgba(60, 64, 67, 0.15);\n",
              "      fill: #174EA6;\n",
              "    }\n",
              "\n",
              "    .colab-df-buttons div {\n",
              "      margin-bottom: 4px;\n",
              "    }\n",
              "\n",
              "    [theme=dark] .colab-df-convert {\n",
              "      background-color: #3B4455;\n",
              "      fill: #D2E3FC;\n",
              "    }\n",
              "\n",
              "    [theme=dark] .colab-df-convert:hover {\n",
              "      background-color: #434B5C;\n",
              "      box-shadow: 0px 1px 3px 1px rgba(0, 0, 0, 0.15);\n",
              "      filter: drop-shadow(0px 1px 2px rgba(0, 0, 0, 0.3));\n",
              "      fill: #FFFFFF;\n",
              "    }\n",
              "  </style>\n",
              "\n",
              "    <script>\n",
              "      const buttonEl =\n",
              "        document.querySelector('#df-fe11aebf-ce69-4b5d-a174-c0bc8d541748 button.colab-df-convert');\n",
              "      buttonEl.style.display =\n",
              "        google.colab.kernel.accessAllowed ? 'block' : 'none';\n",
              "\n",
              "      async function convertToInteractive(key) {\n",
              "        const element = document.querySelector('#df-fe11aebf-ce69-4b5d-a174-c0bc8d541748');\n",
              "        const dataTable =\n",
              "          await google.colab.kernel.invokeFunction('convertToInteractive',\n",
              "                                                    [key], {});\n",
              "        if (!dataTable) return;\n",
              "\n",
              "        const docLinkHtml = 'Like what you see? Visit the ' +\n",
              "          '<a target=\"_blank\" href=https://colab.research.google.com/notebooks/data_table.ipynb>data table notebook</a>'\n",
              "          + ' to learn more about interactive tables.';\n",
              "        element.innerHTML = '';\n",
              "        dataTable['output_type'] = 'display_data';\n",
              "        await google.colab.output.renderOutput(dataTable, element);\n",
              "        const docLink = document.createElement('div');\n",
              "        docLink.innerHTML = docLinkHtml;\n",
              "        element.appendChild(docLink);\n",
              "      }\n",
              "    </script>\n",
              "  </div>\n",
              "\n",
              "\n",
              "<div id=\"df-b3bb8643-026c-4310-8000-813382c7e78f\">\n",
              "  <button class=\"colab-df-quickchart\" onclick=\"quickchart('df-b3bb8643-026c-4310-8000-813382c7e78f')\"\n",
              "            title=\"Suggest charts\"\n",
              "            style=\"display:none;\">\n",
              "\n",
              "<svg xmlns=\"http://www.w3.org/2000/svg\" height=\"24px\"viewBox=\"0 0 24 24\"\n",
              "     width=\"24px\">\n",
              "    <g>\n",
              "        <path d=\"M19 3H5c-1.1 0-2 .9-2 2v14c0 1.1.9 2 2 2h14c1.1 0 2-.9 2-2V5c0-1.1-.9-2-2-2zM9 17H7v-7h2v7zm4 0h-2V7h2v10zm4 0h-2v-4h2v4z\"/>\n",
              "    </g>\n",
              "</svg>\n",
              "  </button>\n",
              "\n",
              "<style>\n",
              "  .colab-df-quickchart {\n",
              "      --bg-color: #E8F0FE;\n",
              "      --fill-color: #1967D2;\n",
              "      --hover-bg-color: #E2EBFA;\n",
              "      --hover-fill-color: #174EA6;\n",
              "      --disabled-fill-color: #AAA;\n",
              "      --disabled-bg-color: #DDD;\n",
              "  }\n",
              "\n",
              "  [theme=dark] .colab-df-quickchart {\n",
              "      --bg-color: #3B4455;\n",
              "      --fill-color: #D2E3FC;\n",
              "      --hover-bg-color: #434B5C;\n",
              "      --hover-fill-color: #FFFFFF;\n",
              "      --disabled-bg-color: #3B4455;\n",
              "      --disabled-fill-color: #666;\n",
              "  }\n",
              "\n",
              "  .colab-df-quickchart {\n",
              "    background-color: var(--bg-color);\n",
              "    border: none;\n",
              "    border-radius: 50%;\n",
              "    cursor: pointer;\n",
              "    display: none;\n",
              "    fill: var(--fill-color);\n",
              "    height: 32px;\n",
              "    padding: 0;\n",
              "    width: 32px;\n",
              "  }\n",
              "\n",
              "  .colab-df-quickchart:hover {\n",
              "    background-color: var(--hover-bg-color);\n",
              "    box-shadow: 0 1px 2px rgba(60, 64, 67, 0.3), 0 1px 3px 1px rgba(60, 64, 67, 0.15);\n",
              "    fill: var(--button-hover-fill-color);\n",
              "  }\n",
              "\n",
              "  .colab-df-quickchart-complete:disabled,\n",
              "  .colab-df-quickchart-complete:disabled:hover {\n",
              "    background-color: var(--disabled-bg-color);\n",
              "    fill: var(--disabled-fill-color);\n",
              "    box-shadow: none;\n",
              "  }\n",
              "\n",
              "  .colab-df-spinner {\n",
              "    border: 2px solid var(--fill-color);\n",
              "    border-color: transparent;\n",
              "    border-bottom-color: var(--fill-color);\n",
              "    animation:\n",
              "      spin 1s steps(1) infinite;\n",
              "  }\n",
              "\n",
              "  @keyframes spin {\n",
              "    0% {\n",
              "      border-color: transparent;\n",
              "      border-bottom-color: var(--fill-color);\n",
              "      border-left-color: var(--fill-color);\n",
              "    }\n",
              "    20% {\n",
              "      border-color: transparent;\n",
              "      border-left-color: var(--fill-color);\n",
              "      border-top-color: var(--fill-color);\n",
              "    }\n",
              "    30% {\n",
              "      border-color: transparent;\n",
              "      border-left-color: var(--fill-color);\n",
              "      border-top-color: var(--fill-color);\n",
              "      border-right-color: var(--fill-color);\n",
              "    }\n",
              "    40% {\n",
              "      border-color: transparent;\n",
              "      border-right-color: var(--fill-color);\n",
              "      border-top-color: var(--fill-color);\n",
              "    }\n",
              "    60% {\n",
              "      border-color: transparent;\n",
              "      border-right-color: var(--fill-color);\n",
              "    }\n",
              "    80% {\n",
              "      border-color: transparent;\n",
              "      border-right-color: var(--fill-color);\n",
              "      border-bottom-color: var(--fill-color);\n",
              "    }\n",
              "    90% {\n",
              "      border-color: transparent;\n",
              "      border-bottom-color: var(--fill-color);\n",
              "    }\n",
              "  }\n",
              "</style>\n",
              "\n",
              "  <script>\n",
              "    async function quickchart(key) {\n",
              "      const quickchartButtonEl =\n",
              "        document.querySelector('#' + key + ' button');\n",
              "      quickchartButtonEl.disabled = true;  // To prevent multiple clicks.\n",
              "      quickchartButtonEl.classList.add('colab-df-spinner');\n",
              "      try {\n",
              "        const charts = await google.colab.kernel.invokeFunction(\n",
              "            'suggestCharts', [key], {});\n",
              "      } catch (error) {\n",
              "        console.error('Error during call to suggestCharts:', error);\n",
              "      }\n",
              "      quickchartButtonEl.classList.remove('colab-df-spinner');\n",
              "      quickchartButtonEl.classList.add('colab-df-quickchart-complete');\n",
              "    }\n",
              "    (() => {\n",
              "      let quickchartButtonEl =\n",
              "        document.querySelector('#df-b3bb8643-026c-4310-8000-813382c7e78f button');\n",
              "      quickchartButtonEl.style.display =\n",
              "        google.colab.kernel.accessAllowed ? 'block' : 'none';\n",
              "    })();\n",
              "  </script>\n",
              "</div>\n",
              "    </div>\n",
              "  </div>\n"
            ]
          },
          "metadata": {},
          "execution_count": 65
        }
      ],
      "source": [
        "round(csv.describe(),1)"
      ]
    },
    {
      "cell_type": "code",
      "execution_count": 66,
      "id": "6be5a7fe",
      "metadata": {
        "colab": {
          "base_uri": "https://localhost:8080/"
        },
        "id": "6be5a7fe",
        "outputId": "5d29f208-709f-49f3-848b-1a2c879eeb0f"
      },
      "outputs": [
        {
          "output_type": "execute_result",
          "data": {
            "text/plain": [
              "0"
            ]
          },
          "metadata": {},
          "execution_count": 66
        }
      ],
      "source": [
        "csv.isnull().sum().sum()"
      ]
    },
    {
      "cell_type": "markdown",
      "id": "b35306ee",
      "metadata": {
        "id": "b35306ee"
      },
      "source": [
        "Пропущенных значений нет. Явно нестандартных значений не видно.\n",
        "Более детально посмотрим на возможные аномалий с помощью графика boxplot."
      ]
    },
    {
      "cell_type": "code",
      "execution_count": 67,
      "id": "fec22e0a",
      "metadata": {
        "colab": {
          "base_uri": "https://localhost:8080/",
          "height": 354
        },
        "id": "fec22e0a",
        "outputId": "5aa6ce83-ec58-459d-8161-edc9515cd5c3"
      },
      "outputs": [
        {
          "output_type": "execute_result",
          "data": {
            "text/plain": [
              "<Axes: >"
            ]
          },
          "metadata": {},
          "execution_count": 67
        },
        {
          "output_type": "display_data",
          "data": {
            "text/plain": [
              "<Figure size 2000x500 with 1 Axes>"
            ],
            "image/png": "[encoded data removed]"
          },
          "metadata": {}
        }
      ],
      "source": [
        "csv.boxplot(figsize=(20,5))"
      ]
    },
    {
      "cell_type": "markdown",
      "source": [
        "Большие выбросы имеет показатеь \"absences\" (количество прогулов), рассмотрим его отдельно."
      ],
      "metadata": {
        "id": "YWMX2HxIK-YG"
      },
      "id": "YWMX2HxIK-YG"
    },
    {
      "cell_type": "code",
      "execution_count": 68,
      "id": "8698ff0d",
      "metadata": {
        "id": "8698ff0d"
      },
      "outputs": [],
      "source": [
        "csv_without_absences=csv.drop('absences', axis=1)\n",
        "#csv_without_absences.boxplot(figsize=(20,5))"
      ]
    },
    {
      "cell_type": "markdown",
      "id": "a008e398",
      "metadata": {
        "id": "a008e398"
      },
      "source": [
        "Данные имеют разные единицы измерения, поэтому для наглядности и сравнения стандартизуем их.\n",
        "\n",
        "Применим к данным линейную нормировку (MinMaxScaler) и построим по ним график boxplot."
      ]
    },
    {
      "cell_type": "code",
      "execution_count": 69,
      "id": "8f831c2c",
      "metadata": {
        "colab": {
          "base_uri": "https://localhost:8080/",
          "height": 354
        },
        "id": "8f831c2c",
        "outputId": "8a5157cf-c69a-4250-982e-f0a6abd7ceaa"
      },
      "outputs": [
        {
          "output_type": "execute_result",
          "data": {
            "text/plain": [
              "<Axes: >"
            ]
          },
          "metadata": {},
          "execution_count": 69
        },
        {
          "output_type": "display_data",
          "data": {
            "text/plain": [
              "<Figure size 2000x500 with 1 Axes>"
            ],
            "image/png": "[encoded data removed]"
          },
          "metadata": {}
        }
      ],
      "source": [
        "columns_int64_whithout_absences=columns_int64.copy()\n",
        "columns_int64_whithout_absences.remove('absences')\n",
        "\n",
        "csv_x=csv[columns_int64_whithout_absences]\n",
        "stand = preprocessing.MinMaxScaler(copy=False)\n",
        "csv_x_norm = stand.fit_transform(csv_x)\n",
        "pd.DataFrame(csv_x_norm, index = csv_x.index,columns = csv_x.columns).boxplot(figsize=(20,5))"
      ]
    },
    {
      "cell_type": "markdown",
      "id": "f404d1be",
      "metadata": {
        "id": "f404d1be"
      },
      "source": [
        "Хотя на графике видны выбросы практически у всех показателей, однако их экстремальные значения из функции describe() вполне допустимы как по смыслу, так и в границах заданных интервалов. Поэтому эти исходные данные будем считать \"чистыми\"."
      ]
    },
    {
      "cell_type": "code",
      "execution_count": 70,
      "id": "33214a08",
      "metadata": {
        "colab": {
          "base_uri": "https://localhost:8080/",
          "height": 847
        },
        "id": "33214a08",
        "outputId": "9bcfddb6-3fc5-477c-c52c-220de27c760d"
      },
      "outputs": [
        {
          "output_type": "execute_result",
          "data": {
            "text/plain": [
              "<Axes: >"
            ]
          },
          "metadata": {},
          "execution_count": 70
        },
        {
          "output_type": "display_data",
          "data": {
            "text/plain": [
              "<Figure size 300x1000 with 1 Axes>"
            ],
            "image/png": "[encoded data removed]"
          },
          "metadata": {}
        }
      ],
      "source": [
        "#Теперь рассмотри признак absences\n",
        "\n",
        "pd.DataFrame(csv['absences']).boxplot(figsize=(3,10))"
      ]
    },
    {
      "cell_type": "code",
      "execution_count": 71,
      "id": "bd93aefe",
      "metadata": {
        "colab": {
          "base_uri": "https://localhost:8080/"
        },
        "id": "bd93aefe",
        "outputId": "26047905-4f3d-4089-f523-25b2e6963b1e"
      },
      "outputs": [
        {
          "output_type": "stream",
          "name": "stdout",
          "text": [
            "Количество студентов, пропустивших более 20 дней: 15\n",
            "Количество студентов, пропустивших более 30 дней: 5\n"
          ]
        }
      ],
      "source": [
        "print('Количество студентов, пропустивших более 20 дней:',  csv[csv['absences']>20].shape[0])\n",
        "print('Количество студентов, пропустивших более 30 дней:',  csv[csv['absences']>30].shape[0])"
      ]
    },
    {
      "cell_type": "markdown",
      "source": [
        "Мы не будем брать в расчетную модель студентов, которые пропустили очень много занятий по причинам, не связанным с болезнью (health)."
      ],
      "metadata": {
        "id": "aOraYciDTLC5"
      },
      "id": "aOraYciDTLC5"
    },
    {
      "cell_type": "code",
      "execution_count": 72,
      "id": "2343bb0f",
      "metadata": {
        "colab": {
          "base_uri": "https://localhost:8080/"
        },
        "id": "2343bb0f",
        "outputId": "8f458534-9371-494d-943d-d60bf3157e33"
      },
      "outputs": [
        {
          "output_type": "stream",
          "name": "stdout",
          "text": [
            "Int64Index([74, 205, 276, 280, 307, 320], dtype='int64')\n"
          ]
        }
      ],
      "source": [
        "csv_extra=csv[(csv['absences']>20) & ( csv['health'].isin([4,5]))]\n",
        "print(csv_extra.index)\n",
        "#csv_extra\n"
      ]
    },
    {
      "cell_type": "code",
      "execution_count": 73,
      "id": "f157595b",
      "metadata": {
        "colab": {
          "base_uri": "https://localhost:8080/"
        },
        "id": "f157595b",
        "outputId": "6eebd9eb-1dff-4f7e-82dc-4cabeba14fa7"
      },
      "outputs": [
        {
          "output_type": "execute_result",
          "data": {
            "text/plain": [
              "(389, 33)"
            ]
          },
          "metadata": {},
          "execution_count": 73
        }
      ],
      "source": [
        "csv_clear = csv.copy()\n",
        "csv_clear=csv_clear.drop(index=csv_extra.index)# очищаем данные от \"аномальных\" прогульщиков\n",
        "csv_clear.shape"
      ]
    },
    {
      "cell_type": "code",
      "execution_count": 74,
      "id": "7bea179a",
      "metadata": {
        "colab": {
          "base_uri": "https://localhost:8080/",
          "height": 308
        },
        "id": "7bea179a",
        "outputId": "c17d49fe-2334-4e61-ddb3-44fcc758ab5c"
      },
      "outputs": [
        {
          "output_type": "execute_result",
          "data": {
            "text/plain": [
              "<Axes: >"
            ]
          },
          "metadata": {},
          "execution_count": 74
        },
        {
          "output_type": "display_data",
          "data": {
            "text/plain": [
              "<Figure size 200x300 with 1 Axes>"
            ],
            "image/png": "[encoded data removed]"
          },
          "metadata": {}
        }
      ],
      "source": [
        "pd.DataFrame(csv_clear['absences']).boxplot(figsize=(2,3))"
      ]
    },
    {
      "cell_type": "code",
      "execution_count": 75,
      "id": "a70f64be",
      "metadata": {
        "colab": {
          "base_uri": "https://localhost:8080/",
          "height": 361
        },
        "id": "a70f64be",
        "outputId": "c88166e3-7290-49a0-a746-36f02bd0415e"
      },
      "outputs": [
        {
          "output_type": "execute_result",
          "data": {
            "text/plain": [
              "    school sex  age address famsize Pstatus  Medu  Fedu      Mjob      Fjob  \\\n",
              "40      GP   F   16       U     LE3       T     2     2     other     other   \n",
              "103     GP   F   15       U     GT3       T     3     2  services     other   \n",
              "183     GP   F   17       U     LE3       T     3     3     other     other   \n",
              "198     GP   F   17       U     GT3       T     4     4  services   teacher   \n",
              "216     GP   F   17       U     GT3       T     4     3     other     other   \n",
              "260     GP   F   18       U     GT3       T     4     3  services     other   \n",
              "277     GP   M   18       U     GT3       T     4     4   teacher  services   \n",
              "313     GP   F   19       U     LE3       T     3     2  services     other   \n",
              "315     GP   F   19       R     GT3       T     2     3     other     other   \n",
              "\n",
              "     ... famrel freetime  goout  Dalc  Walc health absences  G1  G2  G3  \n",
              "40   ...      3        3      3     1     2      3       25   7  10  11  \n",
              "103  ...      4        3      5     1     1      2       26   7   6   6  \n",
              "183  ...      5        3      3     2     3      1       56   9   9   8  \n",
              "198  ...      4        2      4     2     3      2       24  18  18  18  \n",
              "216  ...      3        4      5     2     4      1       22   6   6   4  \n",
              "260  ...      3        1      2     1     3      2       21  17  18  18  \n",
              "277  ...      3        2      4     1     4      3       22   9   9   9  \n",
              "313  ...      4        2      2     1     2      1       22  13  10  11  \n",
              "315  ...      4        1      2     1     1      3       40  13  11  11  \n",
              "\n",
              "[9 rows x 33 columns]"
            ],
            "text/html": [
              "\n",
              "  <div id=\"df-72ba1dc6-09b8-40a7-93cf-fce89cd03f8f\" class=\"colab-df-container\">\n",
              "    <div>\n",
              "<style scoped>\n",
              "    .dataframe tbody tr th:only-of-type {\n",
              "        vertical-align: middle;\n",
              "    }\n",
              "\n",
              "    .dataframe tbody tr th {\n",
              "        vertical-align: top;\n",
              "    }\n",
              "\n",
              "    .dataframe thead th {\n",
              "        text-align: right;\n",
              "    }\n",
              "</style>\n",
              "<table border=\"1\" class=\"dataframe\">\n",
              "  <thead>\n",
              "    <tr style=\"text-align: right;\">\n",
              "      <th></th>\n",
              "      <th>school</th>\n",
              "      <th>sex</th>\n",
              "      <th>age</th>\n",
              "      <th>address</th>\n",
              "      <th>famsize</th>\n",
              "      <th>Pstatus</th>\n",
              "      <th>Medu</th>\n",
              "      <th>Fedu</th>\n",
              "      <th>Mjob</th>\n",
              "      <th>Fjob</th>\n",
              "      <th>...</th>\n",
              "      <th>famrel</th>\n",
              "      <th>freetime</th>\n",
              "      <th>goout</th>\n",
              "      <th>Dalc</th>\n",
              "      <th>Walc</th>\n",
              "      <th>health</th>\n",
              "      <th>absences</th>\n",
              "      <th>G1</th>\n",
              "      <th>G2</th>\n",
              "      <th>G3</th>\n",
              "    </tr>\n",
              "  </thead>\n",
              "  <tbody>\n",
              "    <tr>\n",
              "      <th>40</th>\n",
              "      <td>GP</td>\n",
              "      <td>F</td>\n",
              "      <td>16</td>\n",
              "      <td>U</td>\n",
              "      <td>LE3</td>\n",
              "      <td>T</td>\n",
              "      <td>2</td>\n",
              "      <td>2</td>\n",
              "      <td>other</td>\n",
              "      <td>other</td>\n",
              "      <td>...</td>\n",
              "      <td>3</td>\n",
              "      <td>3</td>\n",
              "      <td>3</td>\n",
              "      <td>1</td>\n",
              "      <td>2</td>\n",
              "      <td>3</td>\n",
              "      <td>25</td>\n",
              "      <td>7</td>\n",
              "      <td>10</td>\n",
              "      <td>11</td>\n",
              "    </tr>\n",
              "    <tr>\n",
              "      <th>103</th>\n",
              "      <td>GP</td>\n",
              "      <td>F</td>\n",
              "      <td>15</td>\n",
              "      <td>U</td>\n",
              "      <td>GT3</td>\n",
              "      <td>T</td>\n",
              "      <td>3</td>\n",
              "      <td>2</td>\n",
              "      <td>services</td>\n",
              "      <td>other</td>\n",
              "      <td>...</td>\n",
              "      <td>4</td>\n",
              "      <td>3</td>\n",
              "      <td>5</td>\n",
              "      <td>1</td>\n",
              "      <td>1</td>\n",
              "      <td>2</td>\n",
              "      <td>26</td>\n",
              "      <td>7</td>\n",
              "      <td>6</td>\n",
              "      <td>6</td>\n",
              "    </tr>\n",
              "    <tr>\n",
              "      <th>183</th>\n",
              "      <td>GP</td>\n",
              "      <td>F</td>\n",
              "      <td>17</td>\n",
              "      <td>U</td>\n",
              "      <td>LE3</td>\n",
              "      <td>T</td>\n",
              "      <td>3</td>\n",
              "      <td>3</td>\n",
              "      <td>other</td>\n",
              "      <td>other</td>\n",
              "      <td>...</td>\n",
              "      <td>5</td>\n",
              "      <td>3</td>\n",
              "      <td>3</td>\n",
              "      <td>2</td>\n",
              "      <td>3</td>\n",
              "      <td>1</td>\n",
              "      <td>56</td>\n",
              "      <td>9</td>\n",
              "      <td>9</td>\n",
              "      <td>8</td>\n",
              "    </tr>\n",
              "    <tr>\n",
              "      <th>198</th>\n",
              "      <td>GP</td>\n",
              "      <td>F</td>\n",
              "      <td>17</td>\n",
              "      <td>U</td>\n",
              "      <td>GT3</td>\n",
              "      <td>T</td>\n",
              "      <td>4</td>\n",
              "      <td>4</td>\n",
              "      <td>services</td>\n",
              "      <td>teacher</td>\n",
              "      <td>...</td>\n",
              "      <td>4</td>\n",
              "      <td>2</td>\n",
              "      <td>4</td>\n",
              "      <td>2</td>\n",
              "      <td>3</td>\n",
              "      <td>2</td>\n",
              "      <td>24</td>\n",
              "      <td>18</td>\n",
              "      <td>18</td>\n",
              "      <td>18</td>\n",
              "    </tr>\n",
              "    <tr>\n",
              "      <th>216</th>\n",
              "      <td>GP</td>\n",
              "      <td>F</td>\n",
              "      <td>17</td>\n",
              "      <td>U</td>\n",
              "      <td>GT3</td>\n",
              "      <td>T</td>\n",
              "      <td>4</td>\n",
              "      <td>3</td>\n",
              "      <td>other</td>\n",
              "      <td>other</td>\n",
              "      <td>...</td>\n",
              "      <td>3</td>\n",
              "      <td>4</td>\n",
              "      <td>5</td>\n",
              "      <td>2</td>\n",
              "      <td>4</td>\n",
              "      <td>1</td>\n",
              "      <td>22</td>\n",
              "      <td>6</td>\n",
              "      <td>6</td>\n",
              "      <td>4</td>\n",
              "    </tr>\n",
              "    <tr>\n",
              "      <th>260</th>\n",
              "      <td>GP</td>\n",
              "      <td>F</td>\n",
              "      <td>18</td>\n",
              "      <td>U</td>\n",
              "      <td>GT3</td>\n",
              "      <td>T</td>\n",
              "      <td>4</td>\n",
              "      <td>3</td>\n",
              "      <td>services</td>\n",
              "      <td>other</td>\n",
              "      <td>...</td>\n",
              "      <td>3</td>\n",
              "      <td>1</td>\n",
              "      <td>2</td>\n",
              "      <td>1</td>\n",
              "      <td>3</td>\n",
              "      <td>2</td>\n",
              "      <td>21</td>\n",
              "      <td>17</td>\n",
              "      <td>18</td>\n",
              "      <td>18</td>\n",
              "    </tr>\n",
              "    <tr>\n",
              "      <th>277</th>\n",
              "      <td>GP</td>\n",
              "      <td>M</td>\n",
              "      <td>18</td>\n",
              "      <td>U</td>\n",
              "      <td>GT3</td>\n",
              "      <td>T</td>\n",
              "      <td>4</td>\n",
              "      <td>4</td>\n",
              "      <td>teacher</td>\n",
              "      <td>services</td>\n",
              "      <td>...</td>\n",
              "      <td>3</td>\n",
              "      <td>2</td>\n",
              "      <td>4</td>\n",
              "      <td>1</td>\n",
              "      <td>4</td>\n",
              "      <td>3</td>\n",
              "      <td>22</td>\n",
              "      <td>9</td>\n",
              "      <td>9</td>\n",
              "      <td>9</td>\n",
              "    </tr>\n",
              "    <tr>\n",
              "      <th>313</th>\n",
              "      <td>GP</td>\n",
              "      <td>F</td>\n",
              "      <td>19</td>\n",
              "      <td>U</td>\n",
              "      <td>LE3</td>\n",
              "      <td>T</td>\n",
              "      <td>3</td>\n",
              "      <td>2</td>\n",
              "      <td>services</td>\n",
              "      <td>other</td>\n",
              "      <td>...</td>\n",
              "      <td>4</td>\n",
              "      <td>2</td>\n",
              "      <td>2</td>\n",
              "      <td>1</td>\n",
              "      <td>2</td>\n",
              "      <td>1</td>\n",
              "      <td>22</td>\n",
              "      <td>13</td>\n",
              "      <td>10</td>\n",
              "      <td>11</td>\n",
              "    </tr>\n",
              "    <tr>\n",
              "      <th>315</th>\n",
              "      <td>GP</td>\n",
              "      <td>F</td>\n",
              "      <td>19</td>\n",
              "      <td>R</td>\n",
              "      <td>GT3</td>\n",
              "      <td>T</td>\n",
              "      <td>2</td>\n",
              "      <td>3</td>\n",
              "      <td>other</td>\n",
              "      <td>other</td>\n",
              "      <td>...</td>\n",
              "      <td>4</td>\n",
              "      <td>1</td>\n",
              "      <td>2</td>\n",
              "      <td>1</td>\n",
              "      <td>1</td>\n",
              "      <td>3</td>\n",
              "      <td>40</td>\n",
              "      <td>13</td>\n",
              "      <td>11</td>\n",
              "      <td>11</td>\n",
              "    </tr>\n",
              "  </tbody>\n",
              "</table>\n",
              "<p>9 rows × 33 columns</p>\n",
              "</div>\n",
              "    <div class=\"colab-df-buttons\">\n",
              "\n",
              "  <div class=\"colab-df-container\">\n",
              "    <button class=\"colab-df-convert\" onclick=\"convertToInteractive('df-72ba1dc6-09b8-40a7-93cf-fce89cd03f8f')\"\n",
              "            title=\"Convert this dataframe to an interactive table.\"\n",
              "            style=\"display:none;\">\n",
              "\n",
              "  <svg xmlns=\"http://www.w3.org/2000/svg\" height=\"24px\" viewBox=\"0 -960 960 960\">\n",
              "    <path d=\"M120-120v-720h720v720H120Zm60-500h600v-160H180v160Zm220 220h160v-160H400v160Zm0 220h160v-160H400v160ZM180-400h160v-160H180v160Zm440 0h160v-160H620v160ZM180-180h160v-160H180v160Zm440 0h160v-160H620v160Z\"/>\n",
              "  </svg>\n",
              "    </button>\n",
              "\n",
              "  <style>\n",
              "    .colab-df-container {\n",
              "      display:flex;\n",
              "      gap: 12px;\n",
              "    }\n",
              "\n",
              "    .colab-df-convert {\n",
              "      background-color: #E8F0FE;\n",
              "      border: none;\n",
              "      border-radius: 50%;\n",
              "      cursor: pointer;\n",
              "      display: none;\n",
              "      fill: #1967D2;\n",
              "      height: 32px;\n",
              "      padding: 0 0 0 0;\n",
              "      width: 32px;\n",
              "    }\n",
              "\n",
              "    .colab-df-convert:hover {\n",
              "      background-color: #E2EBFA;\n",
              "      box-shadow: 0px 1px 2px rgba(60, 64, 67, 0.3), 0px 1px 3px 1px rgba(60, 64, 67, 0.15);\n",
              "      fill: #174EA6;\n",
              "    }\n",
              "\n",
              "    .colab-df-buttons div {\n",
              "      margin-bottom: 4px;\n",
              "    }\n",
              "\n",
              "    [theme=dark] .colab-df-convert {\n",
              "      background-color: #3B4455;\n",
              "      fill: #D2E3FC;\n",
              "    }\n",
              "\n",
              "    [theme=dark] .colab-df-convert:hover {\n",
              "      background-color: #434B5C;\n",
              "      box-shadow: 0px 1px 3px 1px rgba(0, 0, 0, 0.15);\n",
              "      filter: drop-shadow(0px 1px 2px rgba(0, 0, 0, 0.3));\n",
              "      fill: #FFFFFF;\n",
              "    }\n",
              "  </style>\n",
              "\n",
              "    <script>\n",
              "      const buttonEl =\n",
              "        document.querySelector('#df-72ba1dc6-09b8-40a7-93cf-fce89cd03f8f button.colab-df-convert');\n",
              "      buttonEl.style.display =\n",
              "        google.colab.kernel.accessAllowed ? 'block' : 'none';\n",
              "\n",
              "      async function convertToInteractive(key) {\n",
              "        const element = document.querySelector('#df-72ba1dc6-09b8-40a7-93cf-fce89cd03f8f');\n",
              "        const dataTable =\n",
              "          await google.colab.kernel.invokeFunction('convertToInteractive',\n",
              "                                                    [key], {});\n",
              "        if (!dataTable) return;\n",
              "\n",
              "        const docLinkHtml = 'Like what you see? Visit the ' +\n",
              "          '<a target=\"_blank\" href=https://colab.research.google.com/notebooks/data_table.ipynb>data table notebook</a>'\n",
              "          + ' to learn more about interactive tables.';\n",
              "        element.innerHTML = '';\n",
              "        dataTable['output_type'] = 'display_data';\n",
              "        await google.colab.output.renderOutput(dataTable, element);\n",
              "        const docLink = document.createElement('div');\n",
              "        docLink.innerHTML = docLinkHtml;\n",
              "        element.appendChild(docLink);\n",
              "      }\n",
              "    </script>\n",
              "  </div>\n",
              "\n",
              "\n",
              "<div id=\"df-6932b1f0-dd18-48c7-8263-223e7293697b\">\n",
              "  <button class=\"colab-df-quickchart\" onclick=\"quickchart('df-6932b1f0-dd18-48c7-8263-223e7293697b')\"\n",
              "            title=\"Suggest charts\"\n",
              "            style=\"display:none;\">\n",
              "\n",
              "<svg xmlns=\"http://www.w3.org/2000/svg\" height=\"24px\"viewBox=\"0 0 24 24\"\n",
              "     width=\"24px\">\n",
              "    <g>\n",
              "        <path d=\"M19 3H5c-1.1 0-2 .9-2 2v14c0 1.1.9 2 2 2h14c1.1 0 2-.9 2-2V5c0-1.1-.9-2-2-2zM9 17H7v-7h2v7zm4 0h-2V7h2v10zm4 0h-2v-4h2v4z\"/>\n",
              "    </g>\n",
              "</svg>\n",
              "  </button>\n",
              "\n",
              "<style>\n",
              "  .colab-df-quickchart {\n",
              "      --bg-color: #E8F0FE;\n",
              "      --fill-color: #1967D2;\n",
              "      --hover-bg-color: #E2EBFA;\n",
              "      --hover-fill-color: #174EA6;\n",
              "      --disabled-fill-color: #AAA;\n",
              "      --disabled-bg-color: #DDD;\n",
              "  }\n",
              "\n",
              "  [theme=dark] .colab-df-quickchart {\n",
              "      --bg-color: #3B4455;\n",
              "      --fill-color: #D2E3FC;\n",
              "      --hover-bg-color: #434B5C;\n",
              "      --hover-fill-color: #FFFFFF;\n",
              "      --disabled-bg-color: #3B4455;\n",
              "      --disabled-fill-color: #666;\n",
              "  }\n",
              "\n",
              "  .colab-df-quickchart {\n",
              "    background-color: var(--bg-color);\n",
              "    border: none;\n",
              "    border-radius: 50%;\n",
              "    cursor: pointer;\n",
              "    display: none;\n",
              "    fill: var(--fill-color);\n",
              "    height: 32px;\n",
              "    padding: 0;\n",
              "    width: 32px;\n",
              "  }\n",
              "\n",
              "  .colab-df-quickchart:hover {\n",
              "    background-color: var(--hover-bg-color);\n",
              "    box-shadow: 0 1px 2px rgba(60, 64, 67, 0.3), 0 1px 3px 1px rgba(60, 64, 67, 0.15);\n",
              "    fill: var(--button-hover-fill-color);\n",
              "  }\n",
              "\n",
              "  .colab-df-quickchart-complete:disabled,\n",
              "  .colab-df-quickchart-complete:disabled:hover {\n",
              "    background-color: var(--disabled-bg-color);\n",
              "    fill: var(--disabled-fill-color);\n",
              "    box-shadow: none;\n",
              "  }\n",
              "\n",
              "  .colab-df-spinner {\n",
              "    border: 2px solid var(--fill-color);\n",
              "    border-color: transparent;\n",
              "    border-bottom-color: var(--fill-color);\n",
              "    animation:\n",
              "      spin 1s steps(1) infinite;\n",
              "  }\n",
              "\n",
              "  @keyframes spin {\n",
              "    0% {\n",
              "      border-color: transparent;\n",
              "      border-bottom-color: var(--fill-color);\n",
              "      border-left-color: var(--fill-color);\n",
              "    }\n",
              "    20% {\n",
              "      border-color: transparent;\n",
              "      border-left-color: var(--fill-color);\n",
              "      border-top-color: var(--fill-color);\n",
              "    }\n",
              "    30% {\n",
              "      border-color: transparent;\n",
              "      border-left-color: var(--fill-color);\n",
              "      border-top-color: var(--fill-color);\n",
              "      border-right-color: var(--fill-color);\n",
              "    }\n",
              "    40% {\n",
              "      border-color: transparent;\n",
              "      border-right-color: var(--fill-color);\n",
              "      border-top-color: var(--fill-color);\n",
              "    }\n",
              "    60% {\n",
              "      border-color: transparent;\n",
              "      border-right-color: var(--fill-color);\n",
              "    }\n",
              "    80% {\n",
              "      border-color: transparent;\n",
              "      border-right-color: var(--fill-color);\n",
              "      border-bottom-color: var(--fill-color);\n",
              "    }\n",
              "    90% {\n",
              "      border-color: transparent;\n",
              "      border-bottom-color: var(--fill-color);\n",
              "    }\n",
              "  }\n",
              "</style>\n",
              "\n",
              "  <script>\n",
              "    async function quickchart(key) {\n",
              "      const quickchartButtonEl =\n",
              "        document.querySelector('#' + key + ' button');\n",
              "      quickchartButtonEl.disabled = true;  // To prevent multiple clicks.\n",
              "      quickchartButtonEl.classList.add('colab-df-spinner');\n",
              "      try {\n",
              "        const charts = await google.colab.kernel.invokeFunction(\n",
              "            'suggestCharts', [key], {});\n",
              "      } catch (error) {\n",
              "        console.error('Error during call to suggestCharts:', error);\n",
              "      }\n",
              "      quickchartButtonEl.classList.remove('colab-df-spinner');\n",
              "      quickchartButtonEl.classList.add('colab-df-quickchart-complete');\n",
              "    }\n",
              "    (() => {\n",
              "      let quickchartButtonEl =\n",
              "        document.querySelector('#df-6932b1f0-dd18-48c7-8263-223e7293697b button');\n",
              "      quickchartButtonEl.style.display =\n",
              "        google.colab.kernel.accessAllowed ? 'block' : 'none';\n",
              "    })();\n",
              "  </script>\n",
              "</div>\n",
              "    </div>\n",
              "  </div>\n"
            ]
          },
          "metadata": {},
          "execution_count": 75
        }
      ],
      "source": [
        "csv_clear[(csv_clear['absences']>20)]# остались прогулы, связанные с болезью"
      ]
    },
    {
      "cell_type": "markdown",
      "source": [
        "Проанализируем колонку отклика G3"
      ],
      "metadata": {
        "id": "C60XmwL68n5a"
      },
      "id": "C60XmwL68n5a"
    },
    {
      "cell_type": "code",
      "source": [
        "value_counts = csv['G3'].value_counts()\n",
        "df_value_counts = pd.DataFrame(value_counts)\n",
        "df_value_counts = df_value_counts.reset_index()\n",
        "df_value_counts.columns = ['G3', 'counts_for_G3']\n",
        "df_value_counts.sort_values (by = ['G3'])"
      ],
      "metadata": {
        "colab": {
          "base_uri": "https://localhost:8080/",
          "height": 614
        },
        "id": "75bgAzT88XBv",
        "outputId": "a9da96b3-d74c-4000-ef19-6dfcb7c6fd6c"
      },
      "id": "75bgAzT88XBv",
      "execution_count": 76,
      "outputs": [
        {
          "output_type": "execute_result",
          "data": {
            "text/plain": [
              "    G3  counts_for_G3\n",
              "2    0             38\n",
              "17   4              1\n",
              "13   5              7\n",
              "10   6             15\n",
              "12   7              9\n",
              "4    8             32\n",
              "7    9             28\n",
              "0   10             56\n",
              "1   11             47\n",
              "6   12             31\n",
              "5   13             31\n",
              "8   14             27\n",
              "3   15             33\n",
              "9   16             16\n",
              "14  17              6\n",
              "11  18             12\n",
              "15  19              5\n",
              "16  20              1"
            ],
            "text/html": [
              "\n",
              "  <div id=\"df-32db8be7-b38f-4c7c-93aa-c7893ff972f7\" class=\"colab-df-container\">\n",
              "    <div>\n",
              "<style scoped>\n",
              "    .dataframe tbody tr th:only-of-type {\n",
              "        vertical-align: middle;\n",
              "    }\n",
              "\n",
              "    .dataframe tbody tr th {\n",
              "        vertical-align: top;\n",
              "    }\n",
              "\n",
              "    .dataframe thead th {\n",
              "        text-align: right;\n",
              "    }\n",
              "</style>\n",
              "<table border=\"1\" class=\"dataframe\">\n",
              "  <thead>\n",
              "    <tr style=\"text-align: right;\">\n",
              "      <th></th>\n",
              "      <th>G3</th>\n",
              "      <th>counts_for_G3</th>\n",
              "    </tr>\n",
              "  </thead>\n",
              "  <tbody>\n",
              "    <tr>\n",
              "      <th>2</th>\n",
              "      <td>0</td>\n",
              "      <td>38</td>\n",
              "    </tr>\n",
              "    <tr>\n",
              "      <th>17</th>\n",
              "      <td>4</td>\n",
              "      <td>1</td>\n",
              "    </tr>\n",
              "    <tr>\n",
              "      <th>13</th>\n",
              "      <td>5</td>\n",
              "      <td>7</td>\n",
              "    </tr>\n",
              "    <tr>\n",
              "      <th>10</th>\n",
              "      <td>6</td>\n",
              "      <td>15</td>\n",
              "    </tr>\n",
              "    <tr>\n",
              "      <th>12</th>\n",
              "      <td>7</td>\n",
              "      <td>9</td>\n",
              "    </tr>\n",
              "    <tr>\n",
              "      <th>4</th>\n",
              "      <td>8</td>\n",
              "      <td>32</td>\n",
              "    </tr>\n",
              "    <tr>\n",
              "      <th>7</th>\n",
              "      <td>9</td>\n",
              "      <td>28</td>\n",
              "    </tr>\n",
              "    <tr>\n",
              "      <th>0</th>\n",
              "      <td>10</td>\n",
              "      <td>56</td>\n",
              "    </tr>\n",
              "    <tr>\n",
              "      <th>1</th>\n",
              "      <td>11</td>\n",
              "      <td>47</td>\n",
              "    </tr>\n",
              "    <tr>\n",
              "      <th>6</th>\n",
              "      <td>12</td>\n",
              "      <td>31</td>\n",
              "    </tr>\n",
              "    <tr>\n",
              "      <th>5</th>\n",
              "      <td>13</td>\n",
              "      <td>31</td>\n",
              "    </tr>\n",
              "    <tr>\n",
              "      <th>8</th>\n",
              "      <td>14</td>\n",
              "      <td>27</td>\n",
              "    </tr>\n",
              "    <tr>\n",
              "      <th>3</th>\n",
              "      <td>15</td>\n",
              "      <td>33</td>\n",
              "    </tr>\n",
              "    <tr>\n",
              "      <th>9</th>\n",
              "      <td>16</td>\n",
              "      <td>16</td>\n",
              "    </tr>\n",
              "    <tr>\n",
              "      <th>14</th>\n",
              "      <td>17</td>\n",
              "      <td>6</td>\n",
              "    </tr>\n",
              "    <tr>\n",
              "      <th>11</th>\n",
              "      <td>18</td>\n",
              "      <td>12</td>\n",
              "    </tr>\n",
              "    <tr>\n",
              "      <th>15</th>\n",
              "      <td>19</td>\n",
              "      <td>5</td>\n",
              "    </tr>\n",
              "    <tr>\n",
              "      <th>16</th>\n",
              "      <td>20</td>\n",
              "      <td>1</td>\n",
              "    </tr>\n",
              "  </tbody>\n",
              "</table>\n",
              "</div>\n",
              "    <div class=\"colab-df-buttons\">\n",
              "\n",
              "  <div class=\"colab-df-container\">\n",
              "    <button class=\"colab-df-convert\" onclick=\"convertToInteractive('df-32db8be7-b38f-4c7c-93aa-c7893ff972f7')\"\n",
              "            title=\"Convert this dataframe to an interactive table.\"\n",
              "            style=\"display:none;\">\n",
              "\n",
              "  <svg xmlns=\"http://www.w3.org/2000/svg\" height=\"24px\" viewBox=\"0 -960 960 960\">\n",
              "    <path d=\"M120-120v-720h720v720H120Zm60-500h600v-160H180v160Zm220 220h160v-160H400v160Zm0 220h160v-160H400v160ZM180-400h160v-160H180v160Zm440 0h160v-160H620v160ZM180-180h160v-160H180v160Zm440 0h160v-160H620v160Z\"/>\n",
              "  </svg>\n",
              "    </button>\n",
              "\n",
              "  <style>\n",
              "    .colab-df-container {\n",
              "      display:flex;\n",
              "      gap: 12px;\n",
              "    }\n",
              "\n",
              "    .colab-df-convert {\n",
              "      background-color: #E8F0FE;\n",
              "      border: none;\n",
              "      border-radius: 50%;\n",
              "      cursor: pointer;\n",
              "      display: none;\n",
              "      fill: #1967D2;\n",
              "      height: 32px;\n",
              "      padding: 0 0 0 0;\n",
              "      width: 32px;\n",
              "    }\n",
              "\n",
              "    .colab-df-convert:hover {\n",
              "      background-color: #E2EBFA;\n",
              "      box-shadow: 0px 1px 2px rgba(60, 64, 67, 0.3), 0px 1px 3px 1px rgba(60, 64, 67, 0.15);\n",
              "      fill: #174EA6;\n",
              "    }\n",
              "\n",
              "    .colab-df-buttons div {\n",
              "      margin-bottom: 4px;\n",
              "    }\n",
              "\n",
              "    [theme=dark] .colab-df-convert {\n",
              "      background-color: #3B4455;\n",
              "      fill: #D2E3FC;\n",
              "    }\n",
              "\n",
              "    [theme=dark] .colab-df-convert:hover {\n",
              "      background-color: #434B5C;\n",
              "      box-shadow: 0px 1px 3px 1px rgba(0, 0, 0, 0.15);\n",
              "      filter: drop-shadow(0px 1px 2px rgba(0, 0, 0, 0.3));\n",
              "      fill: #FFFFFF;\n",
              "    }\n",
              "  </style>\n",
              "\n",
              "    <script>\n",
              "      const buttonEl =\n",
              "        document.querySelector('#df-32db8be7-b38f-4c7c-93aa-c7893ff972f7 button.colab-df-convert');\n",
              "      buttonEl.style.display =\n",
              "        google.colab.kernel.accessAllowed ? 'block' : 'none';\n",
              "\n",
              "      async function convertToInteractive(key) {\n",
              "        const element = document.querySelector('#df-32db8be7-b38f-4c7c-93aa-c7893ff972f7');\n",
              "        const dataTable =\n",
              "          await google.colab.kernel.invokeFunction('convertToInteractive',\n",
              "                                                    [key], {});\n",
              "        if (!dataTable) return;\n",
              "\n",
              "        const docLinkHtml = 'Like what you see? Visit the ' +\n",
              "          '<a target=\"_blank\" href=https://colab.research.google.com/notebooks/data_table.ipynb>data table notebook</a>'\n",
              "          + ' to learn more about interactive tables.';\n",
              "        element.innerHTML = '';\n",
              "        dataTable['output_type'] = 'display_data';\n",
              "        await google.colab.output.renderOutput(dataTable, element);\n",
              "        const docLink = document.createElement('div');\n",
              "        docLink.innerHTML = docLinkHtml;\n",
              "        element.appendChild(docLink);\n",
              "      }\n",
              "    </script>\n",
              "  </div>\n",
              "\n",
              "\n",
              "<div id=\"df-5105cd06-9c2e-4e29-9050-4b2952e4af06\">\n",
              "  <button class=\"colab-df-quickchart\" onclick=\"quickchart('df-5105cd06-9c2e-4e29-9050-4b2952e4af06')\"\n",
              "            title=\"Suggest charts\"\n",
              "            style=\"display:none;\">\n",
              "\n",
              "<svg xmlns=\"http://www.w3.org/2000/svg\" height=\"24px\"viewBox=\"0 0 24 24\"\n",
              "     width=\"24px\">\n",
              "    <g>\n",
              "        <path d=\"M19 3H5c-1.1 0-2 .9-2 2v14c0 1.1.9 2 2 2h14c1.1 0 2-.9 2-2V5c0-1.1-.9-2-2-2zM9 17H7v-7h2v7zm4 0h-2V7h2v10zm4 0h-2v-4h2v4z\"/>\n",
              "    </g>\n",
              "</svg>\n",
              "  </button>\n",
              "\n",
              "<style>\n",
              "  .colab-df-quickchart {\n",
              "      --bg-color: #E8F0FE;\n",
              "      --fill-color: #1967D2;\n",
              "      --hover-bg-color: #E2EBFA;\n",
              "      --hover-fill-color: #174EA6;\n",
              "      --disabled-fill-color: #AAA;\n",
              "      --disabled-bg-color: #DDD;\n",
              "  }\n",
              "\n",
              "  [theme=dark] .colab-df-quickchart {\n",
              "      --bg-color: #3B4455;\n",
              "      --fill-color: #D2E3FC;\n",
              "      --hover-bg-color: #434B5C;\n",
              "      --hover-fill-color: #FFFFFF;\n",
              "      --disabled-bg-color: #3B4455;\n",
              "      --disabled-fill-color: #666;\n",
              "  }\n",
              "\n",
              "  .colab-df-quickchart {\n",
              "    background-color: var(--bg-color);\n",
              "    border: none;\n",
              "    border-radius: 50%;\n",
              "    cursor: pointer;\n",
              "    display: none;\n",
              "    fill: var(--fill-color);\n",
              "    height: 32px;\n",
              "    padding: 0;\n",
              "    width: 32px;\n",
              "  }\n",
              "\n",
              "  .colab-df-quickchart:hover {\n",
              "    background-color: var(--hover-bg-color);\n",
              "    box-shadow: 0 1px 2px rgba(60, 64, 67, 0.3), 0 1px 3px 1px rgba(60, 64, 67, 0.15);\n",
              "    fill: var(--button-hover-fill-color);\n",
              "  }\n",
              "\n",
              "  .colab-df-quickchart-complete:disabled,\n",
              "  .colab-df-quickchart-complete:disabled:hover {\n",
              "    background-color: var(--disabled-bg-color);\n",
              "    fill: var(--disabled-fill-color);\n",
              "    box-shadow: none;\n",
              "  }\n",
              "\n",
              "  .colab-df-spinner {\n",
              "    border: 2px solid var(--fill-color);\n",
              "    border-color: transparent;\n",
              "    border-bottom-color: var(--fill-color);\n",
              "    animation:\n",
              "      spin 1s steps(1) infinite;\n",
              "  }\n",
              "\n",
              "  @keyframes spin {\n",
              "    0% {\n",
              "      border-color: transparent;\n",
              "      border-bottom-color: var(--fill-color);\n",
              "      border-left-color: var(--fill-color);\n",
              "    }\n",
              "    20% {\n",
              "      border-color: transparent;\n",
              "      border-left-color: var(--fill-color);\n",
              "      border-top-color: var(--fill-color);\n",
              "    }\n",
              "    30% {\n",
              "      border-color: transparent;\n",
              "      border-left-color: var(--fill-color);\n",
              "      border-top-color: var(--fill-color);\n",
              "      border-right-color: var(--fill-color);\n",
              "    }\n",
              "    40% {\n",
              "      border-color: transparent;\n",
              "      border-right-color: var(--fill-color);\n",
              "      border-top-color: var(--fill-color);\n",
              "    }\n",
              "    60% {\n",
              "      border-color: transparent;\n",
              "      border-right-color: var(--fill-color);\n",
              "    }\n",
              "    80% {\n",
              "      border-color: transparent;\n",
              "      border-right-color: var(--fill-color);\n",
              "      border-bottom-color: var(--fill-color);\n",
              "    }\n",
              "    90% {\n",
              "      border-color: transparent;\n",
              "      border-bottom-color: var(--fill-color);\n",
              "    }\n",
              "  }\n",
              "</style>\n",
              "\n",
              "  <script>\n",
              "    async function quickchart(key) {\n",
              "      const quickchartButtonEl =\n",
              "        document.querySelector('#' + key + ' button');\n",
              "      quickchartButtonEl.disabled = true;  // To prevent multiple clicks.\n",
              "      quickchartButtonEl.classList.add('colab-df-spinner');\n",
              "      try {\n",
              "        const charts = await google.colab.kernel.invokeFunction(\n",
              "            'suggestCharts', [key], {});\n",
              "      } catch (error) {\n",
              "        console.error('Error during call to suggestCharts:', error);\n",
              "      }\n",
              "      quickchartButtonEl.classList.remove('colab-df-spinner');\n",
              "      quickchartButtonEl.classList.add('colab-df-quickchart-complete');\n",
              "    }\n",
              "    (() => {\n",
              "      let quickchartButtonEl =\n",
              "        document.querySelector('#df-5105cd06-9c2e-4e29-9050-4b2952e4af06 button');\n",
              "      quickchartButtonEl.style.display =\n",
              "        google.colab.kernel.accessAllowed ? 'block' : 'none';\n",
              "    })();\n",
              "  </script>\n",
              "</div>\n",
              "    </div>\n",
              "  </div>\n"
            ]
          },
          "metadata": {},
          "execution_count": 76
        }
      ]
    },
    {
      "cell_type": "code",
      "source": [
        "xplot=df_value_counts['G3']\n",
        "yplot=df_value_counts['counts_for_G3']\n",
        "plt.bar(xplot,yplot)\n",
        "plt.title('Частота оценок')\n",
        "plt.xticks(rotation='vertical')\n",
        "plt.xlabel('Оценка')\n",
        "plt.ylabel('Количество студентов')\n",
        "plt.show()"
      ],
      "metadata": {
        "colab": {
          "base_uri": "https://localhost:8080/",
          "height": 475
        },
        "id": "E3qjgoUw8XZx",
        "outputId": "a6d49e46-7a22-47ab-f1dc-8ff9721ed034"
      },
      "id": "E3qjgoUw8XZx",
      "execution_count": 77,
      "outputs": [
        {
          "output_type": "display_data",
          "data": {
            "text/plain": [
              "<Figure size 640x480 with 1 Axes>"
            ],
            "image/png": "[encoded data removed]"
          },
          "metadata": {}
        }
      ]
    },
    {
      "cell_type": "markdown",
      "source": [
        "Посмотрим на числовые характеристики студентов, у которых итоговый балл равен 0 и не равен 0 (средние значения)."
      ],
      "metadata": {
        "id": "mge4SFe3NaDV"
      },
      "id": "mge4SFe3NaDV"
    },
    {
      "cell_type": "code",
      "source": [
        "csv_clear.loc[csv_clear['G3'] == 0].describe().loc['mean']"
      ],
      "metadata": {
        "colab": {
          "base_uri": "https://localhost:8080/"
        },
        "id": "Zm8Z5Fk19FDo",
        "outputId": "a4bf5f22-4841-4215-cd0a-81126151cdea"
      },
      "id": "Zm8Z5Fk19FDo",
      "execution_count": 78,
      "outputs": [
        {
          "output_type": "execute_result",
          "data": {
            "text/plain": [
              "age           17.078947\n",
              "Medu           2.315789\n",
              "Fedu           2.289474\n",
              "traveltime     1.605263\n",
              "studytime      1.973684\n",
              "failures       0.921053\n",
              "famrel         3.842105\n",
              "freetime       3.131579\n",
              "goout          3.210526\n",
              "Dalc           1.342105\n",
              "Walc           1.921053\n",
              "health         3.605263\n",
              "absences       0.000000\n",
              "G1             7.526316\n",
              "G2             4.657895\n",
              "G3             0.000000\n",
              "Name: mean, dtype: float64"
            ]
          },
          "metadata": {},
          "execution_count": 78
        }
      ]
    },
    {
      "cell_type": "code",
      "source": [
        "csv_clear.loc[csv_clear['G3'] != 0].describe().loc['mean']"
      ],
      "metadata": {
        "colab": {
          "base_uri": "https://localhost:8080/"
        },
        "id": "R-t9iagm8XwL",
        "outputId": "55555000-17ff-4cb5-c82d-e37987e4e4ad"
      },
      "id": "R-t9iagm8XwL",
      "execution_count": 79,
      "outputs": [
        {
          "output_type": "execute_result",
          "data": {
            "text/plain": [
              "age           16.643875\n",
              "Medu           2.783476\n",
              "Fedu           2.541311\n",
              "traveltime     1.430199\n",
              "studytime      2.045584\n",
              "failures       0.270655\n",
              "famrel         3.951567\n",
              "freetime       3.250712\n",
              "goout          3.102564\n",
              "Dalc           1.492877\n",
              "Walc           2.324786\n",
              "health         3.527066\n",
              "absences       5.717949\n",
              "G1            11.290598\n",
              "G2            11.381766\n",
              "G3            11.555556\n",
              "Name: mean, dtype: float64"
            ]
          },
          "metadata": {},
          "execution_count": 79
        }
      ]
    },
    {
      "cell_type": "markdown",
      "source": [
        "По описанию видим, что эти студнеты не пропускали занятия, не пьют.\n",
        "Cредние показатели, кроме G1 и G2, абсолюно сопоставимы с основной массой студентов.\n",
        "\n",
        "Единственным повышенным показателем (в 3,3 раза) является failures (жизненные потрясения) 0.921053/0.270655. Возможно студенты взяли академ и не получили еще итоговую оценку.\n",
        "\n",
        "Поэтому мы удалим строки, в которых отклик G3 равен нулую."
      ],
      "metadata": {
        "id": "H-Ty6AiZPfEY"
      },
      "id": "H-Ty6AiZPfEY"
    },
    {
      "cell_type": "code",
      "source": [
        "csv_G3_0=csv_extra=csv_clear[(csv_clear['G3']==0)]\n",
        "csv_clear=csv_clear.drop(index=csv_G3_0.index)\n",
        "#csv_clear"
      ],
      "metadata": {
        "id": "3TUIe8lCBXsI"
      },
      "id": "3TUIe8lCBXsI",
      "execution_count": 80,
      "outputs": []
    },
    {
      "cell_type": "markdown",
      "id": "66e0cf84",
      "metadata": {
        "id": "66e0cf84"
      },
      "source": [
        "Количество категориальных признаков сопоставимо с количеством числовых признаков, поэтому мы сразу включаем их в модель через one-hot кодировние."
      ]
    },
    {
      "cell_type": "code",
      "execution_count": 81,
      "id": "ac59ae1b",
      "metadata": {
        "id": "ac59ae1b"
      },
      "outputs": [],
      "source": [
        "X = csv_clear.drop('G3', axis=1)\n",
        "Y=csv_clear['G3']\n",
        "X_OH=pd.get_dummies(X, drop_first=True)"
      ]
    },
    {
      "cell_type": "markdown",
      "source": [
        "Построим матрицу корреляций признаков."
      ],
      "metadata": {
        "id": "dSemupBuP4Q6"
      },
      "id": "dSemupBuP4Q6"
    },
    {
      "cell_type": "code",
      "execution_count": 82,
      "id": "f5167c3e",
      "metadata": {
        "colab": {
          "base_uri": "https://localhost:8080/"
        },
        "id": "f5167c3e",
        "outputId": "f19ff6bc-2214-4169-ab80-d7b1830ac2bb"
      },
      "outputs": [
        {
          "output_type": "stream",
          "name": "stdout",
          "text": [
            "['Fedu', 'Medu', 'Walc', 'Dalc', 'G2', 'G1', 'Fjob_services', 'Fjob_other']\n"
          ]
        }
      ],
      "source": [
        "#Нижеследующее изображение будет не инфомративно, т.к. идет большое наслоение 41 признака\n",
        "#sns.heatmap(X_OH.corr(), cmap=\"YlGnBu\", annot=True)\n",
        "# Поэтому вычислим коррелированные признаки вручную.\n",
        "corr = X_OH.corr()\n",
        "#corr.shape #(41, 41)\n",
        "\n",
        "#Отобразим матрицу корреляции только для самых коррелированных признаков, задав порог в 0.5\n",
        "potential_corr=[]\n",
        "for col in corr.columns:\n",
        "    tmp=corr.index[(abs(corr[col])>0.5) & (corr[col]!=1)]. tolist ()\n",
        "    if len(tmp)>0:\n",
        "        #print(tmp)\n",
        "        potential_corr.append(tmp[0])\n",
        "\n",
        "print (potential_corr)"
      ]
    },
    {
      "cell_type": "code",
      "execution_count": 83,
      "id": "bd873efe",
      "metadata": {
        "colab": {
          "base_uri": "https://localhost:8080/",
          "height": 531
        },
        "id": "bd873efe",
        "outputId": "92a72f4f-a38c-44e0-c0a5-672737f253ca"
      },
      "outputs": [
        {
          "output_type": "execute_result",
          "data": {
            "text/plain": [
              "<Axes: >"
            ]
          },
          "metadata": {},
          "execution_count": 83
        },
        {
          "output_type": "display_data",
          "data": {
            "text/plain": [
              "<Figure size 640x480 with 2 Axes>"
            ],
            "image/png": "[encoded data removed]"
          },
          "metadata": {}
        }
      ],
      "source": [
        "sns.heatmap(X_OH[potential_corr].corr(), cmap=\"YlGnBu\", annot=True)"
      ]
    },
    {
      "cell_type": "markdown",
      "source": [
        "У нас заметна корреляция признака G1 (first period grade) и G2 (second period grade). Будем от нее избавляться."
      ],
      "metadata": {
        "id": "DGGGrBlGPkta"
      },
      "id": "DGGGrBlGPkta"
    },
    {
      "cell_type": "code",
      "source": [
        "random_state=9\n",
        "\n",
        "from sklearn.model_selection import train_test_split"
      ],
      "metadata": {
        "id": "PcybRpLSQVmx"
      },
      "id": "PcybRpLSQVmx",
      "execution_count": 84,
      "outputs": []
    },
    {
      "cell_type": "markdown",
      "source": [
        "Для равномерного распределения данных на тестовые и тренировочные применим стратификацию к отклику G3.\n",
        "\n",
        "При стратификации по истинному значению G3 возникла ошибка - ValueError: The least populated class in y has only 1 member, which is too few. The minimum number of groups for any class cannot be less than 2. Т.е. в данных есть  группы с одним значением,они мешают стратификации. Перенесем их в соседние ненулевые группы."
      ],
      "metadata": {
        "id": "hCCh9h9OQJc6"
      },
      "id": "hCCh9h9OQJc6"
    },
    {
      "cell_type": "code",
      "execution_count": 85,
      "id": "144dba27",
      "metadata": {
        "id": "144dba27"
      },
      "outputs": [],
      "source": [
        "X_OH['STRATA']=csv_clear['G3']\n",
        "X_OH.loc[X_OH['STRATA'] == 4, 'STRATA'] = 5\n",
        "X_OH.loc[X_OH['STRATA'] == 20, 'STRATA'] = 19"
      ]
    },
    {
      "cell_type": "markdown",
      "source": [
        "Разделим даныне на тренировочные и тестовые выборки."
      ],
      "metadata": {
        "id": "8BqPepTbPPqa"
      },
      "id": "8BqPepTbPPqa"
    },
    {
      "cell_type": "code",
      "source": [
        "X_train, X_test, y_train, y_test = train_test_split(X_OH, Y, test_size=0.2, random_state=random_state, stratify=X_OH['STRATA'])\n",
        "\n",
        "print(y_train.mean(), y_test.mean()) #баллы сбалансированы\n",
        "\n",
        "X_train=X_train.drop('STRATA', axis=1)\n",
        "X_test=X_test.drop('STRATA', axis=1)"
      ],
      "metadata": {
        "colab": {
          "base_uri": "https://localhost:8080/"
        },
        "id": "5c3OMQthPilq",
        "outputId": "feb604ad-73ec-48d8-90fc-baeb5460a7c0"
      },
      "id": "5c3OMQthPilq",
      "execution_count": 86,
      "outputs": [
        {
          "output_type": "stream",
          "name": "stdout",
          "text": [
            "11.55 11.577464788732394\n"
          ]
        }
      ]
    },
    {
      "cell_type": "markdown",
      "source": [
        "Произведем номировку данных."
      ],
      "metadata": {
        "id": "wcirhubnPk5h"
      },
      "id": "wcirhubnPk5h"
    },
    {
      "cell_type": "code",
      "source": [
        "stand = preprocessing.MinMaxScaler(copy=False)\n",
        "X_train_norm=pd.DataFrame(stand.fit_transform(X_train))\n",
        "X_test_norm=pd.DataFrame(stand.fit_transform(X_test))\n",
        "\n",
        "X_train_norm.columns=X_train.columns\n",
        "X_test_norm.columns=X_test.columns\n",
        "\n",
        "print(X_train_norm.shape)\n",
        "print(X_test_norm.shape)"
      ],
      "metadata": {
        "colab": {
          "base_uri": "https://localhost:8080/"
        },
        "id": "8erAVGqrSzfi",
        "outputId": "629fdc52-0572-457d-e5c8-15a498124882"
      },
      "id": "8erAVGqrSzfi",
      "execution_count": 87,
      "outputs": [
        {
          "output_type": "stream",
          "name": "stdout",
          "text": [
            "(280, 41)\n",
            "(71, 41)\n"
          ]
        }
      ]
    },
    {
      "cell_type": "markdown",
      "source": [
        "Уберем коррелированные признаки в нормированных данных.\n",
        "\n",
        "\n"
      ],
      "metadata": {
        "id": "y2YSD9H3aEos"
      },
      "id": "y2YSD9H3aEos"
    },
    {
      "cell_type": "code",
      "source": [
        "from sklearn.decomposition import PCA"
      ],
      "metadata": {
        "id": "cdmqtn605Xao"
      },
      "id": "cdmqtn605Xao",
      "execution_count": 88,
      "outputs": []
    },
    {
      "cell_type": "code",
      "source": [
        "G12train_norm = X_train_norm[['G1', 'G2']]\n",
        "# Обучите модель PCA для двух наиболее коррелированных признаков.\n",
        "pca = PCA(n_components=2, svd_solver = 'full').fit(G12train_norm)\n",
        "X_train_norm_G12 = X_train_norm.drop(['G1', 'G2'], axis = 1)\n",
        "X_train_norm_G12['G12'] = pca.transform(G12train_norm)[:,0]\n",
        "\n",
        "G12test_norm = X_test_norm[['G1', 'G2']]\n",
        "X_test_norm_G12 = X_test_norm.drop(['G1', 'G2'], axis = 1)\n",
        "X_test_norm_G12['G12'] = pca.transform(G12test_norm)[:,0]\n",
        "\n",
        "print(X_train_norm_G12.shape)\n",
        "print(X_test_norm_G12.shape)"
      ],
      "metadata": {
        "colab": {
          "base_uri": "https://localhost:8080/"
        },
        "id": "MG4YJPSUZgJp",
        "outputId": "4112157f-25bc-4675-8214-ad3cb03c7e51"
      },
      "id": "MG4YJPSUZgJp",
      "execution_count": 89,
      "outputs": [
        {
          "output_type": "stream",
          "name": "stdout",
          "text": [
            "(280, 40)\n",
            "(71, 40)\n"
          ]
        }
      ]
    },
    {
      "cell_type": "markdown",
      "id": "ad6bf686",
      "metadata": {
        "id": "ad6bf686"
      },
      "source": [
        "\n",
        "\n",
        "---\n",
        "\n",
        "\n",
        "\n",
        "Так как у наших объектов  32 признака (а по итогу one-hot кодирования 41 признак), то нам сложно выявить какие-то общности внутри них.\n",
        "\n",
        "Для общего представления о наших объектах попробуем использовать метод построения главных компонет (ГК) для уменьшения размерности."
      ]
    },
    {
      "cell_type": "markdown",
      "id": "7374a445",
      "metadata": {
        "id": "7374a445"
      },
      "source": [
        "Количество ГК сначала возьмем максимальным, равным количеству признаков, т.е. 41."
      ]
    },
    {
      "cell_type": "code",
      "execution_count": 90,
      "id": "e791293e",
      "metadata": {
        "id": "e791293e",
        "colab": {
          "base_uri": "https://localhost:8080/"
        },
        "outputId": "60b3c5fd-f80b-44d0-9e0a-32dbe538b117"
      },
      "outputs": [
        {
          "output_type": "execute_result",
          "data": {
            "text/plain": [
              "array([[-0.45168355, -0.02608945,  0.52683653, ..., -0.06247145,\n",
              "        -0.03164123,  0.11278546],\n",
              "       [-0.62146435, -0.97436827,  0.429726  , ..., -0.04067027,\n",
              "        -0.03142285, -0.01333233],\n",
              "       [ 0.07606032, -0.20478344, -1.50049765, ...,  0.03982245,\n",
              "         0.03335214, -0.02385724],\n",
              "       ...,\n",
              "       [ 0.53340203, -0.23071249,  0.04813732, ..., -0.13773323,\n",
              "         0.28242797,  0.01686503],\n",
              "       [-0.71561845,  0.03353504,  0.66734642, ..., -0.04484986,\n",
              "         0.06685967, -0.11158099],\n",
              "       [ 0.27987408,  0.97796878,  1.03902469, ..., -0.14017287,\n",
              "        -0.10495874, -0.09083666]])"
            ]
          },
          "metadata": {},
          "execution_count": 90
        }
      ],
      "source": [
        "pca = PCA(n_components = X_train_norm.shape[1], svd_solver = 'full') # Создание объекта класса PCA\n",
        "pca.fit_transform(X_train_norm)"
      ]
    },
    {
      "cell_type": "markdown",
      "id": "b23df7c0",
      "metadata": {
        "id": "b23df7c0"
      },
      "source": [
        "Найдем долю объясненной дисперсии в зависимости от количества используемых ГК."
      ]
    },
    {
      "cell_type": "code",
      "execution_count": 91,
      "id": "50f64fa3",
      "metadata": {
        "colab": {
          "base_uri": "https://localhost:8080/"
        },
        "id": "50f64fa3",
        "outputId": "6d3be2cd-bb76-4f42-c205-94b16fd2a835"
      },
      "outputs": [
        {
          "output_type": "execute_result",
          "data": {
            "text/plain": [
              "array([0.09, 0.18, 0.24, 0.3 , 0.36, 0.41, 0.45, 0.5 , 0.54, 0.58, 0.61,\n",
              "       0.65, 0.68, 0.71, 0.73, 0.76, 0.78, 0.8 , 0.82, 0.84, 0.86, 0.87,\n",
              "       0.89, 0.9 , 0.91, 0.92, 0.93, 0.94, 0.95, 0.96, 0.97, 0.97, 0.98,\n",
              "       0.98, 0.99, 0.99, 0.99, 1.  , 1.  , 1.  , 1.  ])"
            ]
          },
          "metadata": {},
          "execution_count": 91
        }
      ],
      "source": [
        "explained_variance = np.round(np.cumsum(pca.explained_variance_ratio_),2)\n",
        "explained_variance"
      ]
    },
    {
      "cell_type": "code",
      "source": [
        "plt.plot(np.arange(1,42), explained_variance, marker='o')\n",
        "plt.ylabel('Доля об. дисперсии')\n",
        "plt.title('Количество ГК')\n",
        "plt.show()"
      ],
      "metadata": {
        "colab": {
          "base_uri": "https://localhost:8080/",
          "height": 452
        },
        "id": "ledXmx2NVBgY",
        "outputId": "7cc7e4ba-c81f-4c92-a838-cb0aa96c2156"
      },
      "id": "ledXmx2NVBgY",
      "execution_count": 92,
      "outputs": [
        {
          "output_type": "display_data",
          "data": {
            "text/plain": [
              "<Figure size 640x480 with 1 Axes>"
            ],
            "image/png": "[encoded data removed]"
          },
          "metadata": {}
        }
      ]
    },
    {
      "cell_type": "markdown",
      "source": [
        "Доля объясненой дисперси в 0,95 позволяеn оставить из 41 признаков всего 29.\n",
        "\n",
        "Для моделей регрессий мы оставим все признаки, соединив через PCA только два коррелированных признака G1 и G2 в один G12.\n",
        "\n",
        "Замечание: использование 29 ГК на классификаторах показал accuracy в 2 раза хуже, чем без ГК, поэтому в данном проекте 29 ГК не использовались.\n",
        "\n",
        "Отслеживать эффективность моделей мы будем по двум метрикам: для регрессий r2_score, для классификаторов accuracy."
      ],
      "metadata": {
        "id": "vAtSDiSeUlqv"
      },
      "id": "vAtSDiSeUlqv"
    },
    {
      "cell_type": "code",
      "source": [
        "pca = PCA(n_components = 29, svd_solver = 'full')\n",
        "X_train_norm_pca = pca.fit_transform(X_train_norm)\n",
        "X_test_norm_pca  = pca.transform(X_test_norm)\n",
        "print(X_train_norm_pca.shape)\n",
        "print(X_test_norm_pca.shape)"
      ],
      "metadata": {
        "colab": {
          "base_uri": "https://localhost:8080/"
        },
        "id": "taMixz60U9r4",
        "outputId": "2654bc38-d13d-4dd2-b3d2-165714ecea45"
      },
      "id": "taMixz60U9r4",
      "execution_count": 93,
      "outputs": [
        {
          "output_type": "stream",
          "name": "stdout",
          "text": [
            "(280, 29)\n",
            "(71, 29)\n"
          ]
        }
      ]
    },
    {
      "cell_type": "code",
      "execution_count": 94,
      "id": "3f1088c6",
      "metadata": {
        "id": "3f1088c6",
        "colab": {
          "base_uri": "https://localhost:8080/"
        },
        "outputId": "92568383-6aaf-411e-eba4-04af9d72ae01"
      },
      "outputs": [
        {
          "output_type": "execute_result",
          "data": {
            "text/plain": [
              "(280, 40)"
            ]
          },
          "metadata": {},
          "execution_count": 94
        }
      ],
      "source": [
        "G12train = X_train[['G1', 'G2']]\n",
        "pca = PCA(n_components=2, svd_solver = 'full').fit(G12train)\n",
        "X_train_G12 = X_train.drop(['G1', 'G2'], axis = 1)\n",
        "X_train_G12['G12'] = pca.transform(G12train)[:,0]\n",
        "X_train_G12.shape"
      ]
    },
    {
      "cell_type": "markdown",
      "source": [],
      "metadata": {
        "id": "sPoKX3HWSIhp"
      },
      "id": "sPoKX3HWSIhp"
    },
    {
      "cell_type": "code",
      "execution_count": 95,
      "id": "85c63f21",
      "metadata": {
        "colab": {
          "base_uri": "https://localhost:8080/"
        },
        "id": "85c63f21",
        "outputId": "f3dc07d3-1f18-4120-a545-f0752d5172f6"
      },
      "outputs": [
        {
          "output_type": "execute_result",
          "data": {
            "text/plain": [
              "(71, 40)"
            ]
          },
          "metadata": {},
          "execution_count": 95
        }
      ],
      "source": [
        "G12test = X_test[['G1', 'G2']]\n",
        "X_test_G12 = X_test.drop(['G1', 'G2'], axis = 1)\n",
        "X_test_G12['G12'] = pca.transform(G12test)[:,0]\n",
        "X_test_G12.shape"
      ]
    },
    {
      "cell_type": "markdown",
      "id": "f4dbeb7b",
      "metadata": {
        "id": "f4dbeb7b"
      },
      "source": [
        "В силу того, что нам известны отклик G3 (final grade) попробуем построить модели регрессий для предсаказания финальной оценки G3 при заданных условиях внешней среды студента."
      ]
    },
    {
      "cell_type": "code",
      "source": [
        "from sklearn.metrics import explained_variance_score,mean_absolute_error,r2_score\n",
        "from sklearn.linear_model import LinearRegression, Ridge\n",
        "from sklearn.neighbors import KNeighborsRegressor\n",
        "from sklearn.ensemble import GradientBoostingRegressor\n",
        "from sklearn.ensemble import ExtraTreesRegressor, RandomForestRegressor\n",
        "from sklearn.tree import DecisionTreeRegressor\n",
        "\n",
        "regressors = [\n",
        "    LinearRegression(),\n",
        "    Ridge(),\n",
        "    DecisionTreeRegressor(),\n",
        "    RandomForestRegressor(),\n",
        "    ExtraTreesRegressor(),\n",
        "    GradientBoostingRegressor(),\n",
        "    KNeighborsRegressor()\n",
        "]\n",
        "\n",
        "for model in regressors:\n",
        "    model.fit(X_train_norm_G12, y_train)\n",
        "    y_pred = model.predict(X_test_norm_G12)\n",
        "    print(\"\\tMean absolute error:\", mean_absolute_error(y_test, y_pred))\n",
        "    print(\"\\tR2 score:\", r2_score(y_test, y_pred))\n",
        "    print()"
      ],
      "metadata": {
        "colab": {
          "base_uri": "https://localhost:8080/"
        },
        "id": "kxvU6y9ukzBp",
        "outputId": "86b1b88c-ea2a-4674-fceb-fbcb515d1239"
      },
      "id": "kxvU6y9ukzBp",
      "execution_count": 96,
      "outputs": [
        {
          "output_type": "stream",
          "name": "stdout",
          "text": [
            "\tMean absolute error: 0.9047436348316394\n",
            "\tR2 score: 0.8741704773500909\n",
            "\n",
            "\tMean absolute error: 0.888404578008156\n",
            "\tR2 score: 0.8809164374810751\n",
            "\n",
            "\tMean absolute error: 1.1549295774647887\n",
            "\tR2 score: 0.7858959453567795\n",
            "\n",
            "\tMean absolute error: 0.879718309859155\n",
            "\tR2 score: 0.881208105653248\n",
            "\n",
            "\tMean absolute error: 0.8263380281690144\n",
            "\tR2 score: 0.8862445810928644\n",
            "\n",
            "\tMean absolute error: 0.8209855851179446\n",
            "\tR2 score: 0.8974738106934173\n",
            "\n",
            "\tMean absolute error: 2.3690140845070427\n",
            "\tR2 score: 0.21730780409824146\n",
            "\n"
          ]
        }
      ]
    },
    {
      "cell_type": "markdown",
      "source": [
        "Наиболее сильныи моделями представляются ExtraTreesRegressor, GradientBoostingRegressor."
      ],
      "metadata": {
        "id": "yGQ4gW0SpWpk"
      },
      "id": "yGQ4gW0SpWpk"
    },
    {
      "cell_type": "markdown",
      "source": [
        "Построим модель простой линйной регресии, чтобы наглядно показать, как тот или иной признак влияет на итоговый показатель студента."
      ],
      "metadata": {
        "id": "Aj3u9VD8plWW"
      },
      "id": "Aj3u9VD8plWW"
    },
    {
      "cell_type": "code",
      "source": [
        "my_LinearRegression = LinearRegression().fit(X_train_norm_G12, y_train)\n",
        "#print(my_LinearRegression.intercept_) #коэффициент Фи0\n",
        "#print(my_LinearRegression.coef_) # коэффициенты Фи1-Фи40\n",
        "print(my_LinearRegression)\n",
        "print('')\n",
        "\n",
        "d=pd.DataFrame(columns=['col1','col2'])\n",
        "d['col1']=X_train_norm_G12.columns\n",
        "d['col2']=my_LinearRegression.coef_\n",
        "d.sort_values (by = ['col2'])"
      ],
      "metadata": {
        "colab": {
          "base_uri": "https://localhost:8080/",
          "height": 1000
        },
        "id": "_a1RH1cec0Z0",
        "outputId": "51f875c8-a123-4ad8-89a9-9c8236db78a3"
      },
      "id": "_a1RH1cec0Z0",
      "execution_count": 97,
      "outputs": [
        {
          "output_type": "stream",
          "name": "stdout",
          "text": [
            "LinearRegression(copy_X=True, fit_intercept=True, n_jobs=None, positive=False)\n",
            "\n"
          ]
        },
        {
          "output_type": "execute_result",
          "data": {
            "text/plain": [
              "                 col1      col2\n",
              "12           absences -2.101360\n",
              "7            freetime -0.399923\n",
              "13          school_MS -0.365474\n",
              "17          Pstatus_T -0.336141\n",
              "8               goout -0.315101\n",
              "11             health -0.279296\n",
              "4           studytime -0.251859\n",
              "14              sex_M -0.200005\n",
              "28  reason_reputation -0.187044\n",
              "35        nursery_yes -0.180279\n",
              "36         higher_yes -0.162632\n",
              "3          traveltime -0.162304\n",
              "29    guardian_mother -0.132086\n",
              "33           paid_yes -0.109204\n",
              "38       romantic_yes -0.099473\n",
              "2                Fedu -0.084758\n",
              "16        famsize_LE3 -0.076880\n",
              "0                 age -0.047380\n",
              "19         Mjob_other -0.039071\n",
              "31      schoolsup_yes -0.011514\n",
              "20      Mjob_services -0.006155\n",
              "21       Mjob_teacher  0.060517\n",
              "26        reason_home  0.065101\n",
              "18        Mjob_health  0.065467\n",
              "34     activities_yes  0.070328\n",
              "30     guardian_other  0.080261\n",
              "22        Fjob_health  0.114079\n",
              "10               Walc  0.122545\n",
              "37       internet_yes  0.128642\n",
              "27       reason_other  0.135945\n",
              "32         famsup_yes  0.139704\n",
              "25       Fjob_teacher  0.144851\n",
              "15          address_U  0.147525\n",
              "9                Dalc  0.152058\n",
              "24      Fjob_services  0.173873\n",
              "5            failures  0.288733\n",
              "1                Medu  0.294843\n",
              "23         Fjob_other  0.376467\n",
              "6              famrel  0.537159\n",
              "39                G12  9.698359"
            ],
            "text/html": [
              "\n",
              "  <div id=\"df-d541178a-42c0-456f-93b5-8de6c8794128\" class=\"colab-df-container\">\n",
              "    <div>\n",
              "<style scoped>\n",
              "    .dataframe tbody tr th:only-of-type {\n",
              "        vertical-align: middle;\n",
              "    }\n",
              "\n",
              "    .dataframe tbody tr th {\n",
              "        vertical-align: top;\n",
              "    }\n",
              "\n",
              "    .dataframe thead th {\n",
              "        text-align: right;\n",
              "    }\n",
              "</style>\n",
              "<table border=\"1\" class=\"dataframe\">\n",
              "  <thead>\n",
              "    <tr style=\"text-align: right;\">\n",
              "      <th></th>\n",
              "      <th>col1</th>\n",
              "      <th>col2</th>\n",
              "    </tr>\n",
              "  </thead>\n",
              "  <tbody>\n",
              "    <tr>\n",
              "      <th>12</th>\n",
              "      <td>absences</td>\n",
              "      <td>-2.101360</td>\n",
              "    </tr>\n",
              "    <tr>\n",
              "      <th>7</th>\n",
              "      <td>freetime</td>\n",
              "      <td>-0.399923</td>\n",
              "    </tr>\n",
              "    <tr>\n",
              "      <th>13</th>\n",
              "      <td>school_MS</td>\n",
              "      <td>-0.365474</td>\n",
              "    </tr>\n",
              "    <tr>\n",
              "      <th>17</th>\n",
              "      <td>Pstatus_T</td>\n",
              "      <td>-0.336141</td>\n",
              "    </tr>\n",
              "    <tr>\n",
              "      <th>8</th>\n",
              "      <td>goout</td>\n",
              "      <td>-0.315101</td>\n",
              "    </tr>\n",
              "    <tr>\n",
              "      <th>11</th>\n",
              "      <td>health</td>\n",
              "      <td>-0.279296</td>\n",
              "    </tr>\n",
              "    <tr>\n",
              "      <th>4</th>\n",
              "      <td>studytime</td>\n",
              "      <td>-0.251859</td>\n",
              "    </tr>\n",
              "    <tr>\n",
              "      <th>14</th>\n",
              "      <td>sex_M</td>\n",
              "      <td>-0.200005</td>\n",
              "    </tr>\n",
              "    <tr>\n",
              "      <th>28</th>\n",
              "      <td>reason_reputation</td>\n",
              "      <td>-0.187044</td>\n",
              "    </tr>\n",
              "    <tr>\n",
              "      <th>35</th>\n",
              "      <td>nursery_yes</td>\n",
              "      <td>-0.180279</td>\n",
              "    </tr>\n",
              "    <tr>\n",
              "      <th>36</th>\n",
              "      <td>higher_yes</td>\n",
              "      <td>-0.162632</td>\n",
              "    </tr>\n",
              "    <tr>\n",
              "      <th>3</th>\n",
              "      <td>traveltime</td>\n",
              "      <td>-0.162304</td>\n",
              "    </tr>\n",
              "    <tr>\n",
              "      <th>29</th>\n",
              "      <td>guardian_mother</td>\n",
              "      <td>-0.132086</td>\n",
              "    </tr>\n",
              "    <tr>\n",
              "      <th>33</th>\n",
              "      <td>paid_yes</td>\n",
              "      <td>-0.109204</td>\n",
              "    </tr>\n",
              "    <tr>\n",
              "      <th>38</th>\n",
              "      <td>romantic_yes</td>\n",
              "      <td>-0.099473</td>\n",
              "    </tr>\n",
              "    <tr>\n",
              "      <th>2</th>\n",
              "      <td>Fedu</td>\n",
              "      <td>-0.084758</td>\n",
              "    </tr>\n",
              "    <tr>\n",
              "      <th>16</th>\n",
              "      <td>famsize_LE3</td>\n",
              "      <td>-0.076880</td>\n",
              "    </tr>\n",
              "    <tr>\n",
              "      <th>0</th>\n",
              "      <td>age</td>\n",
              "      <td>-0.047380</td>\n",
              "    </tr>\n",
              "    <tr>\n",
              "      <th>19</th>\n",
              "      <td>Mjob_other</td>\n",
              "      <td>-0.039071</td>\n",
              "    </tr>\n",
              "    <tr>\n",
              "      <th>31</th>\n",
              "      <td>schoolsup_yes</td>\n",
              "      <td>-0.011514</td>\n",
              "    </tr>\n",
              "    <tr>\n",
              "      <th>20</th>\n",
              "      <td>Mjob_services</td>\n",
              "      <td>-0.006155</td>\n",
              "    </tr>\n",
              "    <tr>\n",
              "      <th>21</th>\n",
              "      <td>Mjob_teacher</td>\n",
              "      <td>0.060517</td>\n",
              "    </tr>\n",
              "    <tr>\n",
              "      <th>26</th>\n",
              "      <td>reason_home</td>\n",
              "      <td>0.065101</td>\n",
              "    </tr>\n",
              "    <tr>\n",
              "      <th>18</th>\n",
              "      <td>Mjob_health</td>\n",
              "      <td>0.065467</td>\n",
              "    </tr>\n",
              "    <tr>\n",
              "      <th>34</th>\n",
              "      <td>activities_yes</td>\n",
              "      <td>0.070328</td>\n",
              "    </tr>\n",
              "    <tr>\n",
              "      <th>30</th>\n",
              "      <td>guardian_other</td>\n",
              "      <td>0.080261</td>\n",
              "    </tr>\n",
              "    <tr>\n",
              "      <th>22</th>\n",
              "      <td>Fjob_health</td>\n",
              "      <td>0.114079</td>\n",
              "    </tr>\n",
              "    <tr>\n",
              "      <th>10</th>\n",
              "      <td>Walc</td>\n",
              "      <td>0.122545</td>\n",
              "    </tr>\n",
              "    <tr>\n",
              "      <th>37</th>\n",
              "      <td>internet_yes</td>\n",
              "      <td>0.128642</td>\n",
              "    </tr>\n",
              "    <tr>\n",
              "      <th>27</th>\n",
              "      <td>reason_other</td>\n",
              "      <td>0.135945</td>\n",
              "    </tr>\n",
              "    <tr>\n",
              "      <th>32</th>\n",
              "      <td>famsup_yes</td>\n",
              "      <td>0.139704</td>\n",
              "    </tr>\n",
              "    <tr>\n",
              "      <th>25</th>\n",
              "      <td>Fjob_teacher</td>\n",
              "      <td>0.144851</td>\n",
              "    </tr>\n",
              "    <tr>\n",
              "      <th>15</th>\n",
              "      <td>address_U</td>\n",
              "      <td>0.147525</td>\n",
              "    </tr>\n",
              "    <tr>\n",
              "      <th>9</th>\n",
              "      <td>Dalc</td>\n",
              "      <td>0.152058</td>\n",
              "    </tr>\n",
              "    <tr>\n",
              "      <th>24</th>\n",
              "      <td>Fjob_services</td>\n",
              "      <td>0.173873</td>\n",
              "    </tr>\n",
              "    <tr>\n",
              "      <th>5</th>\n",
              "      <td>failures</td>\n",
              "      <td>0.288733</td>\n",
              "    </tr>\n",
              "    <tr>\n",
              "      <th>1</th>\n",
              "      <td>Medu</td>\n",
              "      <td>0.294843</td>\n",
              "    </tr>\n",
              "    <tr>\n",
              "      <th>23</th>\n",
              "      <td>Fjob_other</td>\n",
              "      <td>0.376467</td>\n",
              "    </tr>\n",
              "    <tr>\n",
              "      <th>6</th>\n",
              "      <td>famrel</td>\n",
              "      <td>0.537159</td>\n",
              "    </tr>\n",
              "    <tr>\n",
              "      <th>39</th>\n",
              "      <td>G12</td>\n",
              "      <td>9.698359</td>\n",
              "    </tr>\n",
              "  </tbody>\n",
              "</table>\n",
              "</div>\n",
              "    <div class=\"colab-df-buttons\">\n",
              "\n",
              "  <div class=\"colab-df-container\">\n",
              "    <button class=\"colab-df-convert\" onclick=\"convertToInteractive('df-d541178a-42c0-456f-93b5-8de6c8794128')\"\n",
              "            title=\"Convert this dataframe to an interactive table.\"\n",
              "            style=\"display:none;\">\n",
              "\n",
              "  <svg xmlns=\"http://www.w3.org/2000/svg\" height=\"24px\" viewBox=\"0 -960 960 960\">\n",
              "    <path d=\"M120-120v-720h720v720H120Zm60-500h600v-160H180v160Zm220 220h160v-160H400v160Zm0 220h160v-160H400v160ZM180-400h160v-160H180v160Zm440 0h160v-160H620v160ZM180-180h160v-160H180v160Zm440 0h160v-160H620v160Z\"/>\n",
              "  </svg>\n",
              "    </button>\n",
              "\n",
              "  <style>\n",
              "    .colab-df-container {\n",
              "      display:flex;\n",
              "      gap: 12px;\n",
              "    }\n",
              "\n",
              "    .colab-df-convert {\n",
              "      background-color: #E8F0FE;\n",
              "      border: none;\n",
              "      border-radius: 50%;\n",
              "      cursor: pointer;\n",
              "      display: none;\n",
              "      fill: #1967D2;\n",
              "      height: 32px;\n",
              "      padding: 0 0 0 0;\n",
              "      width: 32px;\n",
              "    }\n",
              "\n",
              "    .colab-df-convert:hover {\n",
              "      background-color: #E2EBFA;\n",
              "      box-shadow: 0px 1px 2px rgba(60, 64, 67, 0.3), 0px 1px 3px 1px rgba(60, 64, 67, 0.15);\n",
              "      fill: #174EA6;\n",
              "    }\n",
              "\n",
              "    .colab-df-buttons div {\n",
              "      margin-bottom: 4px;\n",
              "    }\n",
              "\n",
              "    [theme=dark] .colab-df-convert {\n",
              "      background-color: #3B4455;\n",
              "      fill: #D2E3FC;\n",
              "    }\n",
              "\n",
              "    [theme=dark] .colab-df-convert:hover {\n",
              "      background-color: #434B5C;\n",
              "      box-shadow: 0px 1px 3px 1px rgba(0, 0, 0, 0.15);\n",
              "      filter: drop-shadow(0px 1px 2px rgba(0, 0, 0, 0.3));\n",
              "      fill: #FFFFFF;\n",
              "    }\n",
              "  </style>\n",
              "\n",
              "    <script>\n",
              "      const buttonEl =\n",
              "        document.querySelector('#df-d541178a-42c0-456f-93b5-8de6c8794128 button.colab-df-convert');\n",
              "      buttonEl.style.display =\n",
              "        google.colab.kernel.accessAllowed ? 'block' : 'none';\n",
              "\n",
              "      async function convertToInteractive(key) {\n",
              "        const element = document.querySelector('#df-d541178a-42c0-456f-93b5-8de6c8794128');\n",
              "        const dataTable =\n",
              "          await google.colab.kernel.invokeFunction('convertToInteractive',\n",
              "                                                    [key], {});\n",
              "        if (!dataTable) return;\n",
              "\n",
              "        const docLinkHtml = 'Like what you see? Visit the ' +\n",
              "          '<a target=\"_blank\" href=https://colab.research.google.com/notebooks/data_table.ipynb>data table notebook</a>'\n",
              "          + ' to learn more about interactive tables.';\n",
              "        element.innerHTML = '';\n",
              "        dataTable['output_type'] = 'display_data';\n",
              "        await google.colab.output.renderOutput(dataTable, element);\n",
              "        const docLink = document.createElement('div');\n",
              "        docLink.innerHTML = docLinkHtml;\n",
              "        element.appendChild(docLink);\n",
              "      }\n",
              "    </script>\n",
              "  </div>\n",
              "\n",
              "\n",
              "<div id=\"df-23414f9f-c304-437b-9207-28e596630802\">\n",
              "  <button class=\"colab-df-quickchart\" onclick=\"quickchart('df-23414f9f-c304-437b-9207-28e596630802')\"\n",
              "            title=\"Suggest charts\"\n",
              "            style=\"display:none;\">\n",
              "\n",
              "<svg xmlns=\"http://www.w3.org/2000/svg\" height=\"24px\"viewBox=\"0 0 24 24\"\n",
              "     width=\"24px\">\n",
              "    <g>\n",
              "        <path d=\"M19 3H5c-1.1 0-2 .9-2 2v14c0 1.1.9 2 2 2h14c1.1 0 2-.9 2-2V5c0-1.1-.9-2-2-2zM9 17H7v-7h2v7zm4 0h-2V7h2v10zm4 0h-2v-4h2v4z\"/>\n",
              "    </g>\n",
              "</svg>\n",
              "  </button>\n",
              "\n",
              "<style>\n",
              "  .colab-df-quickchart {\n",
              "      --bg-color: #E8F0FE;\n",
              "      --fill-color: #1967D2;\n",
              "      --hover-bg-color: #E2EBFA;\n",
              "      --hover-fill-color: #174EA6;\n",
              "      --disabled-fill-color: #AAA;\n",
              "      --disabled-bg-color: #DDD;\n",
              "  }\n",
              "\n",
              "  [theme=dark] .colab-df-quickchart {\n",
              "      --bg-color: #3B4455;\n",
              "      --fill-color: #D2E3FC;\n",
              "      --hover-bg-color: #434B5C;\n",
              "      --hover-fill-color: #FFFFFF;\n",
              "      --disabled-bg-color: #3B4455;\n",
              "      --disabled-fill-color: #666;\n",
              "  }\n",
              "\n",
              "  .colab-df-quickchart {\n",
              "    background-color: var(--bg-color);\n",
              "    border: none;\n",
              "    border-radius: 50%;\n",
              "    cursor: pointer;\n",
              "    display: none;\n",
              "    fill: var(--fill-color);\n",
              "    height: 32px;\n",
              "    padding: 0;\n",
              "    width: 32px;\n",
              "  }\n",
              "\n",
              "  .colab-df-quickchart:hover {\n",
              "    background-color: var(--hover-bg-color);\n",
              "    box-shadow: 0 1px 2px rgba(60, 64, 67, 0.3), 0 1px 3px 1px rgba(60, 64, 67, 0.15);\n",
              "    fill: var(--button-hover-fill-color);\n",
              "  }\n",
              "\n",
              "  .colab-df-quickchart-complete:disabled,\n",
              "  .colab-df-quickchart-complete:disabled:hover {\n",
              "    background-color: var(--disabled-bg-color);\n",
              "    fill: var(--disabled-fill-color);\n",
              "    box-shadow: none;\n",
              "  }\n",
              "\n",
              "  .colab-df-spinner {\n",
              "    border: 2px solid var(--fill-color);\n",
              "    border-color: transparent;\n",
              "    border-bottom-color: var(--fill-color);\n",
              "    animation:\n",
              "      spin 1s steps(1) infinite;\n",
              "  }\n",
              "\n",
              "  @keyframes spin {\n",
              "    0% {\n",
              "      border-color: transparent;\n",
              "      border-bottom-color: var(--fill-color);\n",
              "      border-left-color: var(--fill-color);\n",
              "    }\n",
              "    20% {\n",
              "      border-color: transparent;\n",
              "      border-left-color: var(--fill-color);\n",
              "      border-top-color: var(--fill-color);\n",
              "    }\n",
              "    30% {\n",
              "      border-color: transparent;\n",
              "      border-left-color: var(--fill-color);\n",
              "      border-top-color: var(--fill-color);\n",
              "      border-right-color: var(--fill-color);\n",
              "    }\n",
              "    40% {\n",
              "      border-color: transparent;\n",
              "      border-right-color: var(--fill-color);\n",
              "      border-top-color: var(--fill-color);\n",
              "    }\n",
              "    60% {\n",
              "      border-color: transparent;\n",
              "      border-right-color: var(--fill-color);\n",
              "    }\n",
              "    80% {\n",
              "      border-color: transparent;\n",
              "      border-right-color: var(--fill-color);\n",
              "      border-bottom-color: var(--fill-color);\n",
              "    }\n",
              "    90% {\n",
              "      border-color: transparent;\n",
              "      border-bottom-color: var(--fill-color);\n",
              "    }\n",
              "  }\n",
              "</style>\n",
              "\n",
              "  <script>\n",
              "    async function quickchart(key) {\n",
              "      const quickchartButtonEl =\n",
              "        document.querySelector('#' + key + ' button');\n",
              "      quickchartButtonEl.disabled = true;  // To prevent multiple clicks.\n",
              "      quickchartButtonEl.classList.add('colab-df-spinner');\n",
              "      try {\n",
              "        const charts = await google.colab.kernel.invokeFunction(\n",
              "            'suggestCharts', [key], {});\n",
              "      } catch (error) {\n",
              "        console.error('Error during call to suggestCharts:', error);\n",
              "      }\n",
              "      quickchartButtonEl.classList.remove('colab-df-spinner');\n",
              "      quickchartButtonEl.classList.add('colab-df-quickchart-complete');\n",
              "    }\n",
              "    (() => {\n",
              "      let quickchartButtonEl =\n",
              "        document.querySelector('#df-23414f9f-c304-437b-9207-28e596630802 button');\n",
              "      quickchartButtonEl.style.display =\n",
              "        google.colab.kernel.accessAllowed ? 'block' : 'none';\n",
              "    })();\n",
              "  </script>\n",
              "</div>\n",
              "    </div>\n",
              "  </div>\n"
            ]
          },
          "metadata": {},
          "execution_count": 97
        }
      ]
    },
    {
      "cell_type": "code",
      "source": [
        "my_colors=[]\n",
        "for c in my_LinearRegression.coef_:\n",
        "    if c > 0:\n",
        "        my_colors.append('blue')\n",
        "    else:\n",
        "        my_colors.append('red')"
      ],
      "metadata": {
        "id": "zlIeLjBwH434"
      },
      "id": "zlIeLjBwH434",
      "execution_count": 98,
      "outputs": []
    },
    {
      "cell_type": "code",
      "source": [
        "xplot=X_train_norm_G12.columns\n",
        "yplot=my_LinearRegression.coef_\n",
        "plt.bar(xplot,yplot, color=my_colors, width=0.9, edgecolor=\"white\", linewidth=0.7)\n",
        "\n",
        "plt.title('Влияние факторов на оценку')\n",
        "plt.xticks(rotation='vertical')\n",
        "plt.ylabel('Значимость влияния')\n",
        "plt.show()"
      ],
      "metadata": {
        "colab": {
          "base_uri": "https://localhost:8080/",
          "height": 565
        },
        "id": "hizaVv4qRgSy",
        "outputId": "fa5c2cab-9920-499f-cae5-baadca4f7dde"
      },
      "id": "hizaVv4qRgSy",
      "execution_count": 99,
      "outputs": [
        {
          "output_type": "display_data",
          "data": {
            "text/plain": [
              "<Figure size 640x480 with 1 Axes>"
            ],
            "image/png": "[encoded data removed]"
          },
          "metadata": {}
        }
      ]
    },
    {
      "cell_type": "markdown",
      "id": "a1a3aead",
      "metadata": {
        "id": "a1a3aead"
      },
      "source": [
        "Логично, что существенное отрицательное влияние на оценки студентов оказывают пропуски занятий (\"Absence\") и наличие свободного времени (\"freetime\"). И совсем не логично, что отрицательно влияет на оценки статус родителй, если они не в разводе (\"Pstatus\"=\"Together\")\n",
        "\n",
        "Значимым положительным факторм является то, как студент учился в предыдущие годы (\"G12\"). Особо стоит отметить, что заметное положительное влияние на успеваемость студентов оказывают взаимоотношения в семье (\"Famrel\"), образование матери (\"Medu\") и работа отца (\"Fjob\"=\"other\")."
      ]
    },
    {
      "cell_type": "code",
      "source": [
        "model_r2_score = {}  # сюда будем сохранять качество натренированных моделей регресии"
      ],
      "metadata": {
        "id": "CdF5dkIqqQHJ"
      },
      "id": "CdF5dkIqqQHJ",
      "execution_count": 100,
      "outputs": []
    },
    {
      "cell_type": "code",
      "execution_count": 101,
      "id": "8ca2baae",
      "metadata": {
        "id": "8ca2baae",
        "outputId": "8587ebf3-37d2-4904-c1bf-ae9bf5346510",
        "colab": {
          "base_uri": "https://localhost:8080/"
        }
      },
      "outputs": [
        {
          "output_type": "stream",
          "name": "stdout",
          "text": [
            "Linear train F 0.9251120127429102\n",
            "Linear test F 0.8741704773500909\n",
            " \n",
            "LinearRound test F 0.8723114372910914\n"
          ]
        }
      ],
      "source": [
        "model_r2_score['Linear train F'] = metrics.r2_score(y_train, my_LinearRegression.predict(X_train_norm_G12))\n",
        "model_r2_score['Linear test F']  = metrics.r2_score(y_test,  my_LinearRegression.predict(X_test_norm_G12))\n",
        "\n",
        "print('Linear train F', metrics.r2_score(y_train, my_LinearRegression.predict(X_train_norm_G12)))\n",
        "print('Linear test F' , metrics.r2_score(y_test, my_LinearRegression.predict(X_test_norm_G12)))\n",
        "print(' ')\n",
        "\n",
        "import numpy as np\n",
        "y_pred= np.round(my_LinearRegression.predict(X_test_norm_G12))\n",
        "print('LinearRound test F' , metrics.r2_score(y_test, y_pred))"
      ]
    },
    {
      "cell_type": "markdown",
      "id": "be57ea31",
      "metadata": {
        "id": "be57ea31"
      },
      "source": [
        "Попробуем подобрать оптимальные параметры для нашей модели, использовав модуль GridSearchCV."
      ]
    },
    {
      "cell_type": "code",
      "source": [
        "#Общие\n",
        "from sklearn.model_selection import GridSearchCV\n",
        "from sklearn import set_config\n",
        "from sklearn.model_selection import RepeatedKFold\n",
        "from sklearn.model_selection import StratifiedKFold\n",
        "\n",
        "set_config(print_changed_only=False)\n",
        "\n",
        "alpha_values = {'alpha':[0.001, 0.01, 0.02, 0.03, 0.04, 0.05, 0.06, 0.07, 0.08, 0.1, 0.2, 0.3, 0.4, 0.5, 0.6, 0.7, 0.8, 1, 5, 10, 20, 30, 50, 100]}\n",
        "\n",
        "cvRepeatedKFold = RepeatedKFold(n_splits=10, n_repeats=3, random_state=random_state)"
      ],
      "metadata": {
        "id": "mwr2-_woqt6W"
      },
      "id": "mwr2-_woqt6W",
      "execution_count": 102,
      "outputs": []
    },
    {
      "cell_type": "code",
      "source": [
        "from sklearn.linear_model import Ridge\n",
        "#from sklearn.linear_model import RidgeCV\n",
        "from numpy import arange\n",
        "\n",
        "my_ridge=Ridge(random_state = random_state).fit(X_train_norm_G12, y_train)\n",
        "\n",
        "print(my_ridge)\n",
        "print('')\n",
        "\n",
        "model_r2_score['Ridge train F'] = metrics.r2_score(y_train, my_ridge.predict(X_train_norm_G12))\n",
        "model_r2_score['Ridge test F']  = metrics.r2_score(y_test,  my_ridge.predict(X_test_norm_G12))\n",
        "print('Ridge train F', metrics.r2_score(y_train, my_ridge.predict(X_train_norm_G12)))\n",
        "print('Ridge test F' , metrics.r2_score(y_test,  my_ridge.predict(X_test_norm_G12)))"
      ],
      "metadata": {
        "id": "5S2PNim-q-Vl",
        "colab": {
          "base_uri": "https://localhost:8080/"
        },
        "outputId": "5ba37e68-32e5-47d8-cdf6-567bfc5903c1"
      },
      "id": "5S2PNim-q-Vl",
      "execution_count": 103,
      "outputs": [
        {
          "output_type": "stream",
          "name": "stdout",
          "text": [
            "Ridge(alpha=1.0, copy_X=True, fit_intercept=True, max_iter=None, positive=False,\n",
            "      random_state=9, solver='auto', tol=0.0001)\n",
            "\n",
            "Ridge train F 0.9233001577781698\n",
            "Ridge test F 0.8809164374810751\n"
          ]
        }
      ]
    },
    {
      "cell_type": "code",
      "source": [
        "RidgeGS = GridSearchCV(Ridge(),\n",
        "                       alpha_values,\n",
        "                       scoring = 'r2',\n",
        "                       cv=cvRepeatedKFold\n",
        "                       )\n",
        "print('лучший параметр alpha для ridge:' , RidgeGS.fit(X_train_norm_G12,y_train).best_params_)\n",
        "print('Лучшая оценка estimator\\'а ridge:', RidgeGS.fit(X_train_norm_G12,y_train).best_score_)\n",
        "\n",
        "model_r2_score['RidgeGS train F'] = metrics.r2_score(y_train, RidgeGS.predict(X_train_norm_G12))\n",
        "model_r2_score['RidgeGS test F']  = metrics.r2_score(y_test,  RidgeGS.predict(X_test_norm_G12))\n",
        "\n",
        "print('RidgeGS train F', metrics.r2_score(y_train, RidgeGS.predict(X_train_norm_G12)))\n",
        "print('RidgeGS test F' , metrics.r2_score(y_test,  RidgeGS.predict(X_test_norm_G12)))"
      ],
      "metadata": {
        "id": "2acpzHOt9Mkt",
        "colab": {
          "base_uri": "https://localhost:8080/"
        },
        "outputId": "1a337189-90f0-4ea0-a0b3-b9743e21c85b"
      },
      "id": "2acpzHOt9Mkt",
      "execution_count": 104,
      "outputs": [
        {
          "output_type": "stream",
          "name": "stdout",
          "text": [
            "лучший параметр alpha для ridge: {'alpha': 0.6}\n",
            "Лучшая оценка estimator'а ridge: 0.8826225727750096\n",
            "RidgeGS train F 0.9244056556719198\n",
            "RidgeGS test F 0.8792412564064088\n"
          ]
        }
      ]
    },
    {
      "cell_type": "markdown",
      "source": [
        "\n",
        "\n",
        "---\n",
        "\n",
        "\n",
        "Теперь построим модель регресии **DecisionTreeRegressor**.\n"
      ],
      "metadata": {
        "id": "hSgdqr9Z0a1q"
      },
      "id": "hSgdqr9Z0a1q"
    },
    {
      "cell_type": "code",
      "source": [
        "from sklearn.tree import DecisionTreeRegressor\n",
        "DTreeReg = DecisionTreeRegressor(random_state = random_state)\n",
        "DTreeReg.fit(X_train_norm_G12, y_train)\n",
        "print(DTreeReg)\n",
        "print('')\n",
        "\n",
        "model_r2_score['DTreeReg train F'] = metrics.r2_score(y_train, DTreeReg.predict(X_train_norm_G12))\n",
        "model_r2_score['DTreeReg test F']  = metrics.r2_score(y_test,  DTreeReg.predict(X_test_norm_G12))\n",
        "\n",
        "print('DTreeReg train F',metrics.r2_score(y_train, DTreeReg.predict(X_train_norm_G12)))\n",
        "print('DTreeReg test F', metrics.r2_score(y_test, DTreeReg.predict(X_test_norm_G12)))\n",
        "\n",
        "\n",
        "cv = StratifiedKFold(n_splits=10,\n",
        "                     shuffle=True,\n",
        "                     random_state=random_state)\n",
        "\n",
        "param_grid = {\n",
        " 'max_depth': [10, 15, None],\n",
        " 'max_features': [\"sqrt\", \"log2\", None],\n",
        " 'min_samples_leaf': [1, 3, 5],\n",
        " 'min_samples_split': [2, 3, 4],\n",
        " 'criterion': [\"squared_error\", \"friedman_mse\", \"absolute_error\", \"poisson\"],\n",
        " 'splitter': [\"best\", \"random\"]\n",
        "}\n",
        "\n",
        "grid_search_DTreeReg = GridSearchCV(\n",
        "    estimator = DecisionTreeRegressor(random_state = random_state),\n",
        "    param_grid = param_grid,\n",
        "    #cv = 5,\n",
        "    cv = cv,\n",
        "    #verbose =2,\n",
        "    #scoring='r2',\n",
        "    n_jobs = -1)\n",
        "grid_search_DTreeReg.fit(X_train_norm_G12, y_train)\n",
        "\n",
        "print('лучший параметр:' , grid_search_DTreeReg.best_params_)\n",
        "print('лучшая оценка:',    grid_search_DTreeReg.best_score_)\n",
        "\n",
        "model_r2_score['DTreeRegGS train F'] = metrics.r2_score(y_train, grid_search_DTreeReg.predict(X_train_norm_G12))\n",
        "model_r2_score['DTreeRegGS test F']  = metrics.r2_score(y_test,  grid_search_DTreeReg.predict(X_test_norm_G12))\n",
        "\n",
        "print('DTreeRegGS train F',metrics.r2_score(y_train, grid_search_DTreeReg.predict(X_train_norm_G12)))\n",
        "print('DTreeRegGS test F', metrics.r2_score(y_test,  grid_search_DTreeReg.predict(X_test_norm_G12)))"
      ],
      "metadata": {
        "id": "v0zzUELF0bya",
        "colab": {
          "base_uri": "https://localhost:8080/"
        },
        "outputId": "0079ac66-9f77-4853-b954-7d2f44c50fc6"
      },
      "id": "v0zzUELF0bya",
      "execution_count": 105,
      "outputs": [
        {
          "output_type": "stream",
          "name": "stdout",
          "text": [
            "DecisionTreeRegressor(ccp_alpha=0.0, criterion='squared_error', max_depth=None,\n",
            "                      max_features=None, max_leaf_nodes=None,\n",
            "                      min_impurity_decrease=0.0, min_samples_leaf=1,\n",
            "                      min_samples_split=2, min_weight_fraction_leaf=0.0,\n",
            "                      random_state=9, splitter='best')\n",
            "\n",
            "DTreeReg train F 1.0\n",
            "DTreeReg test F 0.7936346461270164\n",
            "лучший параметр: {'criterion': 'poisson', 'max_depth': 10, 'max_features': None, 'min_samples_leaf': 5, 'min_samples_split': 2, 'splitter': 'random'}\n",
            "лучшая оценка: 0.870997486057408\n",
            "DTreeRegGS train F 0.9435338842503671\n",
            "DTreeRegGS test F 0.814009053092271\n"
          ]
        }
      ]
    },
    {
      "cell_type": "markdown",
      "source": [
        "Через GridSearchCV для модели DecisionTreeRegressor снизилось переобучение с 1 до 0.943, и точность возросла с 0.793 до 0.814\n",
        "\n",
        "\n",
        "---\n",
        "\n",
        "\n",
        "Попробуем применить **BaggingRegressor** над моделью DecisionTreeRegressor."
      ],
      "metadata": {
        "id": "DXdpWqcl21Ne"
      },
      "id": "DXdpWqcl21Ne"
    },
    {
      "cell_type": "code",
      "source": [
        "from sklearn.ensemble import BaggingRegressor\n",
        "from sklearn.model_selection import StratifiedKFold\n",
        "\n",
        "n_estimators = [5, 50, 100, 300, 500] #число деревьев\n",
        "cv = StratifiedKFold(n_splits=10,\n",
        "                     shuffle=True,\n",
        "                     random_state=random_state)\n",
        "\n",
        "#лучшие параметры GridSearchCV для DecisionTreeRegressor:\n",
        "#{\n",
        "#'criterion': 'poisson',\n",
        "#'max_depth': 10,\n",
        "#'max_features': None,\n",
        "#'min_samples_leaf': 5,\n",
        "# 'min_samples_split': 2,\n",
        "# 'splitter': 'random'}\n",
        "\n",
        "do_better_DTreeReg = DecisionTreeRegressor(random_state = random_state,\n",
        "                                                                   criterion='poisson',\n",
        "                                                                   max_depth= 10,\n",
        "                                                                   min_samples_leaf= 5,\n",
        "                                                                   min_samples_split=2,\n",
        "                                                                   splitter='random')\n",
        "\n",
        "bagging_dtree = BaggingRegressor(estimator = do_better_DTreeReg)\n",
        "\n",
        "grid_searcher_BaggingRegressor = GridSearchCV(estimator=bagging_dtree,\n",
        "                             cv=cv,\n",
        "                             param_grid=dict(n_estimators=n_estimators))\n",
        "grid_searcher_BaggingRegressor.fit(X_train_norm_G12, y_train)\n",
        "\n",
        "\n",
        "print(\"лучший параметр:\", grid_searcher_BaggingRegressor.best_score_)\n",
        "print(\"лучшая оценка:  \", grid_searcher_BaggingRegressor.best_params_)\n",
        "\n",
        "model_r2_score['BagDTreeRegGS train F'] = metrics.r2_score(y_train, grid_searcher_BaggingRegressor.predict(X_train_norm_G12))\n",
        "model_r2_score['BagDTreeRegGS test F']  = metrics.r2_score(y_test,  grid_searcher_BaggingRegressor.predict(X_test_norm_G12))\n",
        "\n",
        "print('BagDTreeRegGS train F',metrics.r2_score(y_train, grid_searcher_BaggingRegressor.predict(X_train_norm_G12)))\n",
        "print('BagDTreeRegGS test F', metrics.r2_score(y_test,  grid_searcher_BaggingRegressor.predict(X_test_norm_G12)))"
      ],
      "metadata": {
        "id": "8uf5PcuC216F",
        "colab": {
          "base_uri": "https://localhost:8080/"
        },
        "outputId": "7c9a5d1c-d6ea-45e5-a2ab-404eb8ece148"
      },
      "id": "8uf5PcuC216F",
      "execution_count": 106,
      "outputs": [
        {
          "output_type": "stream",
          "name": "stdout",
          "text": [
            "лучший параметр: 0.8956709983179106\n",
            "лучшая оценка:   {'n_estimators': 300}\n",
            "BagDTreeRegGS train F 0.9420188253537578\n",
            "BagDTreeRegGS test F 0.8749536023208718\n"
          ]
        }
      ]
    },
    {
      "cell_type": "markdown",
      "source": [
        "С помощью BaggingRegressor и GridSearchCV мы смогли повысить точность модели DecisionTreeRegressor с 0.793 до 0.874.\n",
        "\n",
        "---\n",
        "\n",
        "\n"
      ],
      "metadata": {
        "id": "IOeysGKjj4hk"
      },
      "id": "IOeysGKjj4hk"
    },
    {
      "cell_type": "markdown",
      "source": [
        "Попробуем применить бустинг для деревьев **AdaBoost**"
      ],
      "metadata": {
        "id": "Y1cucw1Uk8sh"
      },
      "id": "Y1cucw1Uk8sh"
    },
    {
      "cell_type": "code",
      "source": [
        "from sklearn.ensemble import AdaBoostRegressor\n",
        "\n",
        "# обучим одну слабую модель do_better_DTreeReg\n",
        "ABoostReg = AdaBoostRegressor(do_better_DTreeReg,\n",
        "                              n_estimators=500,\n",
        "                              random_state=random_state)\n",
        "print(ABoostReg)\n",
        "print('')\n",
        "ABoostReg.fit(X_train_norm_G12, y_train)\n",
        "\n",
        "model_r2_score['ABoostReg train F'] = metrics.r2_score(y_train, ABoostReg.predict(X_train_norm_G12))\n",
        "model_r2_score['ABoostReg test F']  = metrics.r2_score(y_test,  ABoostReg.predict(X_test_norm_G12))\n",
        "\n",
        "print('ABoostReg train F',metrics.r2_score(y_train, ABoostReg.predict(X_train_norm_G12)))\n",
        "print('ABoostReg test F', metrics.r2_score(y_test,  ABoostReg.predict(X_test_norm_G12)))"
      ],
      "metadata": {
        "id": "C-tzz0kZ-JA5",
        "colab": {
          "base_uri": "https://localhost:8080/"
        },
        "outputId": "63c35294-bc58-48f1-9689-f1e04c1f8cb4"
      },
      "id": "C-tzz0kZ-JA5",
      "execution_count": 107,
      "outputs": [
        {
          "output_type": "stream",
          "name": "stdout",
          "text": [
            "AdaBoostRegressor(base_estimator='deprecated',\n",
            "                  estimator=DecisionTreeRegressor(ccp_alpha=0.0,\n",
            "                                                  criterion='poisson',\n",
            "                                                  max_depth=10,\n",
            "                                                  max_features=None,\n",
            "                                                  max_leaf_nodes=None,\n",
            "                                                  min_impurity_decrease=0.0,\n",
            "                                                  min_samples_leaf=5,\n",
            "                                                  min_samples_split=2,\n",
            "                                                  min_weight_fraction_leaf=0.0,\n",
            "                                                  random_state=9,\n",
            "                                                  splitter='random'),\n",
            "                  learning_rate=1.0, loss='linear', n_estimators=500,\n",
            "                  random_state=9)\n",
            "\n",
            "ABoostReg train F 0.9816185575330338\n",
            "ABoostReg test F 0.8837227493016755\n"
          ]
        }
      ]
    },
    {
      "cell_type": "markdown",
      "source": [
        "AdaBoostRegressor показал результат 0.883 чуть получше, чем  BaggingRegressor 0.874, но при этом переобучение увеличилось с 0.942 до 0.981.\n",
        "\n",
        "\n",
        "---\n",
        "\n",
        "Построим модель регрессии случайного леса **RandomForestRegressor**."
      ],
      "metadata": {
        "id": "bbU9FFSdk_7x"
      },
      "id": "bbU9FFSdk_7x"
    },
    {
      "cell_type": "code",
      "source": [
        "from sklearn.ensemble import RandomForestRegressor\n",
        "\n",
        "RForestReg=RandomForestRegressor(random_state = random_state)\n",
        "print(RForestReg)\n",
        "print('')\n",
        "\n",
        "RForestReg.fit(X_train_norm_G12, y_train)\n",
        "\n",
        "model_r2_score['RForestReg train F'] = metrics.r2_score(y_train, RForestReg.predict(X_train_norm_G12))\n",
        "model_r2_score['RForestReg test F']  = metrics.r2_score(y_test,  RForestReg.predict(X_test_norm_G12))\n",
        "\n",
        "print('RForestReg train F',metrics.r2_score(y_train, RForestReg.predict(X_train_norm_G12)))\n",
        "print('RForestReg test F', metrics.r2_score(y_test,  RForestReg.predict(X_test_norm_G12)))\n",
        "\n",
        "\n",
        "n_estimators = [5, 50, 100, 300,500] #число деревьев\n",
        "cv = StratifiedKFold(n_splits=10,\n",
        "                     shuffle=True,\n",
        "                     random_state=random_state)\n",
        "\n",
        "grid_searcher_RForestReg = GridSearchCV(estimator=RandomForestRegressor(),\n",
        "                             cv=cv,\n",
        "                             param_grid=dict(n_estimators=n_estimators))\n",
        "grid_searcher_RForestReg.fit(X_train_norm_G12, y_train)\n",
        "\n",
        "\n",
        "print(\"лучший параметр: \", grid_searcher_RForestReg.best_score_)\n",
        "print(\"лучшая оценка: \",   grid_searcher_RForestReg.best_params_)\n",
        "\n",
        "model_r2_score['RForestRegGS train F'] = metrics.r2_score(y_train, grid_searcher_RForestReg.predict(X_train_norm_G12))\n",
        "model_r2_score['RForestRegGS test F']  = metrics.r2_score(y_test,  grid_searcher_RForestReg.predict(X_test_norm_G12))\n",
        "\n",
        "print('RForestRegGS train F',metrics.r2_score(y_train, grid_searcher_RForestReg.predict(X_train_norm_G12)))\n",
        "print('RForestRegGS test F', metrics.r2_score(y_test,  grid_searcher_RForestReg.predict(X_test_norm_G12)))"
      ],
      "metadata": {
        "id": "Lj8aPU4-oe2k",
        "colab": {
          "base_uri": "https://localhost:8080/"
        },
        "outputId": "d2be971f-f641-437f-e19d-e435065cb9ba"
      },
      "id": "Lj8aPU4-oe2k",
      "execution_count": 108,
      "outputs": [
        {
          "output_type": "stream",
          "name": "stdout",
          "text": [
            "RandomForestRegressor(bootstrap=True, ccp_alpha=0.0, criterion='squared_error',\n",
            "                      max_depth=None, max_features=1.0, max_leaf_nodes=None,\n",
            "                      max_samples=None, min_impurity_decrease=0.0,\n",
            "                      min_samples_leaf=1, min_samples_split=2,\n",
            "                      min_weight_fraction_leaf=0.0, n_estimators=100,\n",
            "                      n_jobs=None, oob_score=False, random_state=9, verbose=0,\n",
            "                      warm_start=False)\n",
            "\n",
            "RForestReg train F 0.9859171534234266\n",
            "RForestReg test F 0.8831899869205058\n",
            "лучший параметр:  0.8924729644062822\n",
            "лучшая оценка:  {'n_estimators': 50}\n",
            "RForestRegGS train F 0.9847002384820102\n",
            "RForestRegGS test F 0.881402347042581\n"
          ]
        }
      ]
    },
    {
      "cell_type": "markdown",
      "source": [
        "\n",
        "\n",
        "\n",
        "---\n",
        "\n",
        "Построим модель **ExtraTreesRegressor** (чрезвычайно рандомизированныe деревья).\n"
      ],
      "metadata": {
        "id": "Hp-RWulywrKd"
      },
      "id": "Hp-RWulywrKd"
    },
    {
      "cell_type": "code",
      "source": [
        "from sklearn.ensemble import ExtraTreesRegressor\n",
        "ExTreeReg = ExtraTreesRegressor(random_state = random_state)\n",
        "ExTreeReg.fit(X_train_norm_G12, y_train)\n",
        "print(ExTreeReg)\n",
        "print('')\n",
        "\n",
        "model_r2_score['ExTreeReg train F'] = metrics.r2_score(y_train, ExTreeReg.predict(X_train_norm_G12))\n",
        "model_r2_score['ExTreeReg test F']  = metrics.r2_score(y_test,  ExTreeReg.predict(X_test_norm_G12))\n",
        "\n",
        "print('ExTreeReg train F',metrics.r2_score(y_train, ExTreeReg.predict(X_train_norm_G12)))\n",
        "print('ExTreeReg test F', metrics.r2_score(y_test,  ExTreeReg.predict(X_test_norm_G12)))\n",
        "\n",
        "\n",
        "param_grid = {'max_depth': [4, 6, 10, None],\n",
        "              #'max_features': [\"sqrt\", \"log2\", None],\n",
        "              'min_samples_leaf': [1, 2, 3, 4, 5],\n",
        "              'min_samples_split': [2, 3, 4],\n",
        "              'criterion': [\"squared_error\", \"friedman_mse\", \"absolute_error\", \"poisson\"],\n",
        "              'bootstrap': [True, False]}\n",
        "\n",
        "\n",
        "grid_search_ExTreeReg = GridSearchCV(estimator = ExtraTreesRegressor(random_state = random_state),\n",
        "                           param_grid = param_grid,\n",
        "                           cv = 5,\n",
        "                           #verbose =2,\n",
        "                           scoring='r2',\n",
        "                           n_jobs = -1)\n",
        "grid_search_ExTreeReg.fit(X_train_norm_G12, y_train)\n",
        "\n",
        "print('лучший параметр:' , grid_search_ExTreeReg.best_params_)\n",
        "print('лучшая оценка:',    grid_search_ExTreeReg.best_score_)\n",
        "\n",
        "model_r2_score['ExTreeRegGS train F'] = metrics.r2_score(y_train, grid_search_ExTreeReg.predict(X_train_norm_G12))\n",
        "model_r2_score['ExTreeRegGS test F']  = metrics.r2_score(y_test,  grid_search_ExTreeReg.predict(X_test_norm_G12))\n",
        "\n",
        "print('ExTreeRegGS train F',metrics.r2_score(y_train, grid_search_ExTreeReg.predict(X_train_norm_G12)))\n",
        "print('ExTreeRegGS test F', metrics.r2_score(y_test,  grid_search_ExTreeReg.predict(X_test_norm_G12)))\n",
        "\n",
        "\n"
      ],
      "metadata": {
        "id": "aAkNsfFkwxGN",
        "colab": {
          "base_uri": "https://localhost:8080/"
        },
        "outputId": "4293f2ce-2b6b-4e18-c6f2-c6a3da6d0deb"
      },
      "id": "aAkNsfFkwxGN",
      "execution_count": 109,
      "outputs": [
        {
          "output_type": "stream",
          "name": "stdout",
          "text": [
            "ExtraTreesRegressor(bootstrap=False, ccp_alpha=0.0, criterion='squared_error',\n",
            "                    max_depth=None, max_features=1.0, max_leaf_nodes=None,\n",
            "                    max_samples=None, min_impurity_decrease=0.0,\n",
            "                    min_samples_leaf=1, min_samples_split=2,\n",
            "                    min_weight_fraction_leaf=0.0, n_estimators=100, n_jobs=None,\n",
            "                    oob_score=False, random_state=9, verbose=0,\n",
            "                    warm_start=False)\n",
            "\n",
            "ExTreeReg train F 1.0\n",
            "ExTreeReg test F 0.8846311909606162\n",
            "лучший параметр: {'bootstrap': True, 'criterion': 'absolute_error', 'max_depth': 6, 'min_samples_leaf': 1, 'min_samples_split': 4}\n",
            "лучшая оценка: 0.9006334737052525\n",
            "ExTreeRegGS train F 0.9478055248332354\n",
            "ExTreeRegGS test F 0.8866640831637843\n"
          ]
        }
      ]
    },
    {
      "cell_type": "markdown",
      "source": [
        "Существенно улучшить модель ExtraTreesRegressor за счет подбора параметров не особо получилось с 0.884 до 0.886.\n",
        "\n",
        "---\n",
        "\n",
        "\n",
        "Теперь рассмотрим последнюю модель регрессии для наших данных - **GradientBoostingRegressor**."
      ],
      "metadata": {
        "id": "P0oUc7bEy0i8"
      },
      "id": "P0oUc7bEy0i8"
    },
    {
      "cell_type": "code",
      "source": [
        "from sklearn.ensemble import GradientBoostingRegressor\n",
        "\n",
        "GBoostReg = GradientBoostingRegressor(random_state = random_state)\n",
        "GBoostReg.fit(X_train_norm_G12, y_train)\n",
        "print(GBoostReg)\n",
        "print(' ')\n",
        "\n",
        "model_r2_score['GBoostReg train F'] = metrics.r2_score(y_train, GBoostReg.predict(X_train_norm_G12))\n",
        "model_r2_score['GBoostReg test F']  = metrics.r2_score(y_test,  GBoostReg.predict(X_test_norm_G12))\n",
        "\n",
        "print('GBoostRegr train F',metrics.r2_score(y_train, GBoostReg.predict(X_train_norm_G12)))\n",
        "print('GBoostRegr test F', metrics.r2_score(y_test,  GBoostReg.predict(X_test_norm_G12)))\n",
        "\n",
        "\n",
        "params = {\n",
        "    \"n_estimators\": 500, # количество итераций градиентного бустинга\n",
        "    \"max_depth\": 4, #[2, 4,8]\n",
        "    \"min_samples_split\": 3,  #[2, 3, 5],\n",
        "    \"learning_rate\": 0.1, #[0.0001, 0.005, 0.01, 0.2]\n",
        "    \"loss\": 'squared_error' #'huber', 'absolute_error', 'squared_error', 'quantile'\n",
        "}\n",
        "GBoostRegrParams = GradientBoostingRegressor(**params)\n",
        "\n",
        "param_grid = {'max_depth': [4, 6, 10, None],\n",
        "              'n_estimators': [100, 300, 500],\n",
        "              'min_samples_leaf': [1, 2, 3, 4, 5],\n",
        "              'min_samples_split': [2, 3, 4]\n",
        "\n",
        "}\n",
        "\n",
        "grid_search_GBoostReg = GridSearchCV(estimator = GradientBoostingRegressor(random_state = random_state),\n",
        "                           param_grid = param_grid,\n",
        "                           cv = 5,\n",
        "                           scoring='accuracy',\n",
        "                           n_jobs = -1)\n",
        "grid_search_GBoostReg.fit(X_train_norm_G12, y_train)\n",
        "\n",
        "print('лучший параметр:' , grid_search_GBoostReg.best_params_)\n",
        "print('лучшая оценка:',    grid_search_GBoostReg.best_score_)\n",
        "\n",
        "print('GBoostRegGS train F',metrics.r2_score(y_train, grid_search_GBoostReg.predict(X_train_norm_G12)))\n",
        "print('GBoostRegGS test F', metrics.r2_score(y_test,  grid_search_GBoostReg.predict(X_test_norm_G12)))"
      ],
      "metadata": {
        "id": "Y9ORLcG_y1aY",
        "colab": {
          "base_uri": "https://localhost:8080/"
        },
        "outputId": "5cadd631-79d0-44a2-83dd-716f81e7d6cc"
      },
      "id": "Y9ORLcG_y1aY",
      "execution_count": 110,
      "outputs": [
        {
          "output_type": "stream",
          "name": "stdout",
          "text": [
            "GradientBoostingRegressor(alpha=0.9, ccp_alpha=0.0, criterion='friedman_mse',\n",
            "                          init=None, learning_rate=0.1, loss='squared_error',\n",
            "                          max_depth=3, max_features=None, max_leaf_nodes=None,\n",
            "                          min_impurity_decrease=0.0, min_samples_leaf=1,\n",
            "                          min_samples_split=2, min_weight_fraction_leaf=0.0,\n",
            "                          n_estimators=100, n_iter_no_change=None,\n",
            "                          random_state=9, subsample=1.0, tol=0.0001,\n",
            "                          validation_fraction=0.1, verbose=0, warm_start=False)\n",
            " \n",
            "GBoostRegr train F 0.976988124748758\n",
            "GBoostRegr test F 0.8970226825609203\n",
            "лучший параметр: {'max_depth': 4, 'min_samples_leaf': 1, 'min_samples_split': 2, 'n_estimators': 100}\n",
            "лучшая оценка: nan\n",
            "GBoostRegGS train F 0.9935217714285982\n",
            "GBoostRegGS test F 0.8895703773953655\n"
          ]
        }
      ]
    },
    {
      "cell_type": "markdown",
      "source": [
        "Модель GradientBoostingRegressor с параметрами по умолчанию показала наилучший результат оценки 0.897 среди всех остальных моделей.\n",
        "\n",
        "---\n",
        "\n",
        "\n",
        "Сравненим оценки всех построенных моделей регрессии.\n"
      ],
      "metadata": {
        "id": "r04kTzxo-k8S"
      },
      "id": "r04kTzxo-k8S"
    },
    {
      "cell_type": "code",
      "source": [
        "model_r2_score\n",
        "dd=pd.DataFrame.from_dict(model_r2_score, orient='index')\n",
        "dd['name']=dd.index\n",
        "dd1=dd['name'].str.split(' ',expand=True)\n",
        "dd1.drop (dd1.columns [[2]], axis= 1 , inplace= True )\n",
        "dd1.columns=['model','sample']\n",
        "dd1['val']=model_r2_score\n",
        "ddd=dd1.reset_index().drop(columns=['index'],axis=1)\n",
        "dtrain=ddd[ddd['sample']=='train'].reset_index().drop(columns=['index','sample'],axis=1)\n",
        "dtest=ddd[ddd['sample']=='test'].reset_index().drop(columns=['index','sample'],axis=1)\n",
        "d_model_r2_score=dtrain.merge(dtest, left_on='model', right_on='model')\n",
        "dtrain\n",
        "#dtest\n",
        "d_model_r2_score.columns=['model','train','test']\n",
        "d_model_r2_score['variance']=d_model_r2_score['train']-d_model_r2_score['test']\n",
        "d_model_r2_score\n",
        "\n",
        "d_model_r2_score[['train',\t'test']]\n",
        "d_model_r2_score.style.background_gradient(subset='test')\n",
        "\n",
        "d_model_r2_score=d_model_r2_score.set_index(['model'])\n",
        "d_model_r2_score\n",
        "\n",
        "print(d_model_r2_score['test'].idxmax())\n",
        "print(d_model_r2_score['variance'].idxmin())\n",
        "\n",
        "print(d_model_r2_score.loc[d_model_r2_score['test'].idxmax(), 'test'] )\n",
        "print(d_model_r2_score.loc[d_model_r2_score['variance'].idxmin(), 'variance'])\n",
        "\n",
        "import pandas as pd\n",
        "import numpy as np\n",
        "\n",
        "def red(val):\n",
        "    color = 'blue'\n",
        "    return 'background-color: %s' % color\n",
        "\n",
        "def green(val):\n",
        "    color = 'green'\n",
        "    return 'background-color: %s' % color\n",
        "\n",
        "def create_colors(x):\n",
        "    #copy df to new - original data are not changed\n",
        "    d_model_r2_score2 = d_model_r2_score.copy()\n",
        "    #select all values to default value - no color\n",
        "    d_model_r2_score2.loc[:,:] = 'background-color: '\n",
        "    #overwrite values with green and red color\n",
        "    d_model_r2_score2.loc[d_model_r2_score['test'].idxmax(),'test']= 'background-color: green'\n",
        "    d_model_r2_score2.loc[d_model_r2_score['variance'].idxmin(), 'variance'] = 'background-color: blue'\n",
        "\n",
        "    #return color df\n",
        "    return d_model_r2_score2\n",
        "\n",
        "d_model_r2_score.style.apply(create_colors, axis=None)"
      ],
      "metadata": {
        "id": "yrR7ko51-loP",
        "colab": {
          "base_uri": "https://localhost:8080/",
          "height": 526
        },
        "outputId": "8d094c1f-c353-498b-c228-a0b2d577fdb7"
      },
      "id": "yrR7ko51-loP",
      "execution_count": 111,
      "outputs": [
        {
          "output_type": "stream",
          "name": "stdout",
          "text": [
            "GBoostReg\n",
            "Ridge\n",
            "0.8970226825609203\n",
            "0.042383720297094696\n"
          ]
        },
        {
          "output_type": "execute_result",
          "data": {
            "text/plain": [
              "<pandas.io.formats.style.Styler at 0x7cc2591a4610>"
            ],
            "text/html": [
              "<style type=\"text/css\">\n",
              "#T_4410d_row0_col0, #T_4410d_row0_col1, #T_4410d_row0_col2, #T_4410d_row1_col0, #T_4410d_row1_col1, #T_4410d_row2_col0, #T_4410d_row2_col1, #T_4410d_row2_col2, #T_4410d_row3_col0, #T_4410d_row3_col1, #T_4410d_row3_col2, #T_4410d_row4_col0, #T_4410d_row4_col1, #T_4410d_row4_col2, #T_4410d_row5_col0, #T_4410d_row5_col1, #T_4410d_row5_col2, #T_4410d_row6_col0, #T_4410d_row6_col1, #T_4410d_row6_col2, #T_4410d_row7_col0, #T_4410d_row7_col1, #T_4410d_row7_col2, #T_4410d_row8_col0, #T_4410d_row8_col1, #T_4410d_row8_col2, #T_4410d_row9_col0, #T_4410d_row9_col1, #T_4410d_row9_col2, #T_4410d_row10_col0, #T_4410d_row10_col1, #T_4410d_row10_col2, #T_4410d_row11_col0, #T_4410d_row11_col2 {\n",
              "  background-color: ;\n",
              "}\n",
              "#T_4410d_row1_col2 {\n",
              "  background-color: blue;\n",
              "}\n",
              "#T_4410d_row11_col1 {\n",
              "  background-color: green;\n",
              "}\n",
              "</style>\n",
              "<table id=\"T_4410d\" class=\"dataframe\">\n",
              "  <thead>\n",
              "    <tr>\n",
              "      <th class=\"blank level0\" >&nbsp;</th>\n",
              "      <th id=\"T_4410d_level0_col0\" class=\"col_heading level0 col0\" >train</th>\n",
              "      <th id=\"T_4410d_level0_col1\" class=\"col_heading level0 col1\" >test</th>\n",
              "      <th id=\"T_4410d_level0_col2\" class=\"col_heading level0 col2\" >variance</th>\n",
              "    </tr>\n",
              "    <tr>\n",
              "      <th class=\"index_name level0\" >model</th>\n",
              "      <th class=\"blank col0\" >&nbsp;</th>\n",
              "      <th class=\"blank col1\" >&nbsp;</th>\n",
              "      <th class=\"blank col2\" >&nbsp;</th>\n",
              "    </tr>\n",
              "  </thead>\n",
              "  <tbody>\n",
              "    <tr>\n",
              "      <th id=\"T_4410d_level0_row0\" class=\"row_heading level0 row0\" >Linear</th>\n",
              "      <td id=\"T_4410d_row0_col0\" class=\"data row0 col0\" >0.925112</td>\n",
              "      <td id=\"T_4410d_row0_col1\" class=\"data row0 col1\" >0.874170</td>\n",
              "      <td id=\"T_4410d_row0_col2\" class=\"data row0 col2\" >0.050942</td>\n",
              "    </tr>\n",
              "    <tr>\n",
              "      <th id=\"T_4410d_level0_row1\" class=\"row_heading level0 row1\" >Ridge</th>\n",
              "      <td id=\"T_4410d_row1_col0\" class=\"data row1 col0\" >0.923300</td>\n",
              "      <td id=\"T_4410d_row1_col1\" class=\"data row1 col1\" >0.880916</td>\n",
              "      <td id=\"T_4410d_row1_col2\" class=\"data row1 col2\" >0.042384</td>\n",
              "    </tr>\n",
              "    <tr>\n",
              "      <th id=\"T_4410d_level0_row2\" class=\"row_heading level0 row2\" >RidgeGS</th>\n",
              "      <td id=\"T_4410d_row2_col0\" class=\"data row2 col0\" >0.924406</td>\n",
              "      <td id=\"T_4410d_row2_col1\" class=\"data row2 col1\" >0.879241</td>\n",
              "      <td id=\"T_4410d_row2_col2\" class=\"data row2 col2\" >0.045164</td>\n",
              "    </tr>\n",
              "    <tr>\n",
              "      <th id=\"T_4410d_level0_row3\" class=\"row_heading level0 row3\" >DTreeReg</th>\n",
              "      <td id=\"T_4410d_row3_col0\" class=\"data row3 col0\" >1.000000</td>\n",
              "      <td id=\"T_4410d_row3_col1\" class=\"data row3 col1\" >0.793635</td>\n",
              "      <td id=\"T_4410d_row3_col2\" class=\"data row3 col2\" >0.206365</td>\n",
              "    </tr>\n",
              "    <tr>\n",
              "      <th id=\"T_4410d_level0_row4\" class=\"row_heading level0 row4\" >DTreeRegGS</th>\n",
              "      <td id=\"T_4410d_row4_col0\" class=\"data row4 col0\" >0.943534</td>\n",
              "      <td id=\"T_4410d_row4_col1\" class=\"data row4 col1\" >0.814009</td>\n",
              "      <td id=\"T_4410d_row4_col2\" class=\"data row4 col2\" >0.129525</td>\n",
              "    </tr>\n",
              "    <tr>\n",
              "      <th id=\"T_4410d_level0_row5\" class=\"row_heading level0 row5\" >BagDTreeRegGS</th>\n",
              "      <td id=\"T_4410d_row5_col0\" class=\"data row5 col0\" >0.942019</td>\n",
              "      <td id=\"T_4410d_row5_col1\" class=\"data row5 col1\" >0.874954</td>\n",
              "      <td id=\"T_4410d_row5_col2\" class=\"data row5 col2\" >0.067065</td>\n",
              "    </tr>\n",
              "    <tr>\n",
              "      <th id=\"T_4410d_level0_row6\" class=\"row_heading level0 row6\" >ABoostReg</th>\n",
              "      <td id=\"T_4410d_row6_col0\" class=\"data row6 col0\" >0.981619</td>\n",
              "      <td id=\"T_4410d_row6_col1\" class=\"data row6 col1\" >0.883723</td>\n",
              "      <td id=\"T_4410d_row6_col2\" class=\"data row6 col2\" >0.097896</td>\n",
              "    </tr>\n",
              "    <tr>\n",
              "      <th id=\"T_4410d_level0_row7\" class=\"row_heading level0 row7\" >RForestReg</th>\n",
              "      <td id=\"T_4410d_row7_col0\" class=\"data row7 col0\" >0.985917</td>\n",
              "      <td id=\"T_4410d_row7_col1\" class=\"data row7 col1\" >0.883190</td>\n",
              "      <td id=\"T_4410d_row7_col2\" class=\"data row7 col2\" >0.102727</td>\n",
              "    </tr>\n",
              "    <tr>\n",
              "      <th id=\"T_4410d_level0_row8\" class=\"row_heading level0 row8\" >RForestRegGS</th>\n",
              "      <td id=\"T_4410d_row8_col0\" class=\"data row8 col0\" >0.984700</td>\n",
              "      <td id=\"T_4410d_row8_col1\" class=\"data row8 col1\" >0.881402</td>\n",
              "      <td id=\"T_4410d_row8_col2\" class=\"data row8 col2\" >0.103298</td>\n",
              "    </tr>\n",
              "    <tr>\n",
              "      <th id=\"T_4410d_level0_row9\" class=\"row_heading level0 row9\" >ExTreeReg</th>\n",
              "      <td id=\"T_4410d_row9_col0\" class=\"data row9 col0\" >1.000000</td>\n",
              "      <td id=\"T_4410d_row9_col1\" class=\"data row9 col1\" >0.884631</td>\n",
              "      <td id=\"T_4410d_row9_col2\" class=\"data row9 col2\" >0.115369</td>\n",
              "    </tr>\n",
              "    <tr>\n",
              "      <th id=\"T_4410d_level0_row10\" class=\"row_heading level0 row10\" >ExTreeRegGS</th>\n",
              "      <td id=\"T_4410d_row10_col0\" class=\"data row10 col0\" >0.947806</td>\n",
              "      <td id=\"T_4410d_row10_col1\" class=\"data row10 col1\" >0.886664</td>\n",
              "      <td id=\"T_4410d_row10_col2\" class=\"data row10 col2\" >0.061141</td>\n",
              "    </tr>\n",
              "    <tr>\n",
              "      <th id=\"T_4410d_level0_row11\" class=\"row_heading level0 row11\" >GBoostReg</th>\n",
              "      <td id=\"T_4410d_row11_col0\" class=\"data row11 col0\" >0.976988</td>\n",
              "      <td id=\"T_4410d_row11_col1\" class=\"data row11 col1\" >0.897023</td>\n",
              "      <td id=\"T_4410d_row11_col2\" class=\"data row11 col2\" >0.079965</td>\n",
              "    </tr>\n",
              "  </tbody>\n",
              "</table>\n"
            ]
          },
          "metadata": {},
          "execution_count": 111
        }
      ]
    },
    {
      "cell_type": "markdown",
      "id": "20ac4e83",
      "metadata": {
        "id": "20ac4e83"
      },
      "source": [
        "\n",
        "\n",
        "---\n",
        "\n",
        "\n",
        "Выше мы рассмотрели модели регресии. Изначально было предположение, что т.к. наши данные категориальные, даже  числовые признаки - дискретные величины со строго заданным набором значений, единственный некатегориальный признак - age (возраст студента), то модель классификации нам может подойти. Отклики также являются категориями (от 4 до 20).\n",
        "\n",
        "\n",
        "В дополнительных расчетах (не включенных в данный блокнот) были построены   модели разных кассификаторов, попытки подбора параметров. К сожалению, accuracy выше 0,3 не поднялась ни на одном классификаторе."
      ]
    },
    {
      "cell_type": "code",
      "source": [
        "from sklearn.metrics import explained_variance_score,mean_absolute_error,r2_score\n",
        "from sklearn.linear_model import LogisticRegression\n",
        "from sklearn.neighbors import KNeighborsClassifier\n",
        "from sklearn.tree import DecisionTreeClassifier\n",
        "from sklearn.ensemble import GradientBoostingClassifier\n",
        "from sklearn.ensemble import ExtraTreesClassifier, RandomForestClassifier\n",
        "\n",
        "\n",
        "classifier = [\n",
        "    LogisticRegression(),\n",
        "    DecisionTreeClassifier(),\n",
        "    KNeighborsClassifier(),\n",
        "    GradientBoostingClassifier(),\n",
        "    ExtraTreesClassifier(),\n",
        "    RandomForestClassifier()\n",
        "    ]\n",
        "\n",
        "\n",
        "for model in classifier:\n",
        "    # модели, построенные на данных, уменьшенных до 29 ГК, показали результат оценки в два раза хуже\n",
        "    #model.fit(X_train_norm_pca, y_train)\n",
        "    model.fit(X_train_G12, y_train)\n",
        "    y_pred = model.predict(X_test_G12)\n",
        "    print(\"\\tMean absolute error:\", mean_absolute_error(y_test, y_pred))\n",
        "    print(\"\\taccuracy:\",metrics.accuracy_score(y_test, y_pred))\n",
        "    print()"
      ],
      "metadata": {
        "id": "-Ias4s08_5-q",
        "colab": {
          "base_uri": "https://localhost:8080/"
        },
        "outputId": "61eb0eb3-9c86-41bb-9181-aa7ef548cfdb"
      },
      "id": "-Ias4s08_5-q",
      "execution_count": 112,
      "outputs": [
        {
          "output_type": "stream",
          "name": "stdout",
          "text": [
            "\tMean absolute error: 0.9436619718309859\n",
            "\taccuracy: 0.3380281690140845\n",
            "\n",
            "\tMean absolute error: 1.1830985915492958\n",
            "\taccuracy: 0.19718309859154928\n",
            "\n",
            "\tMean absolute error: 1.408450704225352\n",
            "\taccuracy: 0.2535211267605634\n",
            "\n",
            "\tMean absolute error: 1.1690140845070423\n",
            "\taccuracy: 0.2676056338028169\n",
            "\n",
            "\tMean absolute error: 1.4788732394366197\n",
            "\taccuracy: 0.23943661971830985\n",
            "\n",
            "\tMean absolute error: 1.3943661971830985\n",
            "\taccuracy: 0.2535211267605634\n",
            "\n"
          ]
        }
      ]
    },
    {
      "cell_type": "markdown",
      "source": [
        "Ниже продемонстрирована одна из моделей, показавшая лучший результат 0.366 - модель DecisionTreeClassifier с параметрами, подобранными вручную.\n",
        "\n"
      ],
      "metadata": {
        "id": "oyP8sTXH0Zd0"
      },
      "id": "oyP8sTXH0Zd0"
    },
    {
      "cell_type": "code",
      "execution_count": 113,
      "id": "104d05a5",
      "metadata": {
        "id": "104d05a5",
        "colab": {
          "base_uri": "https://localhost:8080/",
          "height": 641
        },
        "outputId": "00bd8dce-1159-4391-c251-ce27c838673a"
      },
      "outputs": [
        {
          "output_type": "stream",
          "name": "stdout",
          "text": [
            "DecisionTreeClassifier(ccp_alpha=0.0, class_weight=None, criterion='gini',\n",
            "                       max_depth=None, max_features=None, max_leaf_nodes=None,\n",
            "                       min_impurity_decrease=0.0, min_samples_leaf=1,\n",
            "                       min_samples_split=2, min_weight_fraction_leaf=0.0,\n",
            "                       random_state=9, splitter='best')\n",
            " \n",
            "DTreeClasGini train 1.0\n",
            "DTreeClasGini test 0.2112676056338028\n",
            "DTreeClasEntropy train 1.0\n",
            "DTreeClasEntropy test 0.30985915492957744\n"
          ]
        },
        {
          "output_type": "execute_result",
          "data": {
            "text/plain": [
              "<matplotlib.legend.Legend at 0x7cc24b421b10>"
            ]
          },
          "metadata": {},
          "execution_count": 113
        },
        {
          "output_type": "display_data",
          "data": {
            "text/plain": [
              "<Figure size 640x480 with 1 Axes>"
            ],
            "image/png": "[encoded data removed]"
          },
          "metadata": {}
        }
      ],
      "source": [
        "import warnings\n",
        "warnings.filterwarnings('ignore')\n",
        "\n",
        "from sklearn.metrics import accuracy_score\n",
        "from sklearn.metrics import roc_auc_score\n",
        "\n",
        "from sklearn.tree import DecisionTreeClassifier\n",
        "\n",
        "dtreeGini = DecisionTreeClassifier(random_state=random_state, criterion='gini').fit(X_train_G12, y_train)\n",
        "\n",
        "print (dtreeGini)\n",
        "print(' ')\n",
        "print('DTreeClasGini train', accuracy_score(y_train, dtreeGini.predict(X_train_G12)))\n",
        "print('DTreeClasGini test',  accuracy_score(y_test,  dtreeGini.predict(X_test_G12)))\n",
        "\n",
        "dtreeEntropy = DecisionTreeClassifier(random_state=random_state, criterion='entropy').fit(X_train_G12, y_train)\n",
        "print('DTreeClasEntropy train', accuracy_score(y_train, dtreeEntropy.predict(X_train_G12)))\n",
        "print('DTreeClasEntropy test',  accuracy_score(y_test,  dtreeEntropy.predict(X_test_G12)))\n",
        "\n",
        "max_depth = []\n",
        "acc_gini = []\n",
        "acc_entropy = []\n",
        "\n",
        "for i in range(1,20):\n",
        "\n",
        "  dtree = DecisionTreeClassifier(random_state=random_state, criterion='gini', max_depth=i)\n",
        "  dtree.fit(X_train_G12, y_train)\n",
        "  pred = dtree.predict(X_test_G12)\n",
        "  acc_gini.append(accuracy_score(y_test, pred))\n",
        "\n",
        "  dtree = DecisionTreeClassifier(random_state=random_state, criterion='entropy', max_depth=i)\n",
        "  dtree.fit(X_train_G12, y_train)\n",
        "  pred = dtree.predict(X_test_G12)\n",
        "  acc_entropy.append(accuracy_score(y_test, pred))\n",
        "\n",
        "  max_depth.append(i)\n",
        "\n",
        "\n",
        "d = pd.DataFrame({'acc_gini':pd.Series(acc_gini),\n",
        "                  'acc_entropy':pd.Series(acc_entropy),\n",
        "                  'max_depth':pd.Series(max_depth)})\n",
        "# visualizing changes in parameters\n",
        "plt.plot('max_depth','acc_gini', data=d, label='gini')\n",
        "plt.plot('max_depth','acc_entropy', data=d, label='entropy')\n",
        "plt.xlabel('max_depth')\n",
        "plt.ylabel('accuracy')\n",
        "plt.legend()"
      ]
    },
    {
      "cell_type": "code",
      "source": [
        "print('min - max y', y_test.describe()[3],'-', y_test.describe()[7])\n",
        "print('min - max y predict', pd.Series(dtreeEntropy.predict(X_train_G12)).describe()[3],'-', pd.Series(dtreeEntropy.predict(X_test_G12)).describe()[7])"
      ],
      "metadata": {
        "id": "N4LLDL_zd-LP",
        "colab": {
          "base_uri": "https://localhost:8080/"
        },
        "outputId": "00ce7ab6-b474-4ca6-92f9-034bd999d1fa"
      },
      "id": "N4LLDL_zd-LP",
      "execution_count": 114,
      "outputs": [
        {
          "output_type": "stream",
          "name": "stdout",
          "text": [
            "min - max y 5.0 - 20.0\n",
            "min - max y predict 4.0 - 18.0\n"
          ]
        }
      ]
    },
    {
      "cell_type": "code",
      "execution_count": 115,
      "id": "ec9ff0b6",
      "metadata": {
        "id": "ec9ff0b6",
        "colab": {
          "base_uri": "https://localhost:8080/",
          "height": 472
        },
        "outputId": "08c89805-7b5f-478d-a61a-6bc32fc6adcf"
      },
      "outputs": [
        {
          "output_type": "execute_result",
          "data": {
            "text/plain": [
              "Text(50.722222222222214, 0.5, 'Истинные')"
            ]
          },
          "metadata": {},
          "execution_count": 115
        },
        {
          "output_type": "display_data",
          "data": {
            "text/plain": [
              "<Figure size 640x480 with 2 Axes>"
            ],
            "image/png": "[encoded data removed]"
          },
          "metadata": {}
        }
      ],
      "source": [
        "cm=metrics.confusion_matrix(y_test , dtreeEntropy.predict(X_test_G12))\n",
        "sns.heatmap(cm, cmap=\"Blues\", annot=True,\n",
        "            #cbar_kws={'orientation':'vertical','label':'colorbar'},\n",
        "            xticklabels=['5','6','7','8','9','10','11','12','13','14','15','16','17','18','19', '20'],\n",
        "            yticklabels=['5','6','7','8','9','10','11','12','13','14','15','16','17','18','19', '20']\n",
        "           )\n",
        "plt.xlabel('Предсказанные')\n",
        "plt.ylabel('Истинные')"
      ]
    },
    {
      "cell_type": "markdown",
      "source": [
        "\n",
        "Посмотрим на диапазон ошибок: классификатор в основном ошибается на 1-2 балла."
      ],
      "metadata": {
        "id": "Xfb-AVy_Ltn0"
      },
      "id": "Xfb-AVy_Ltn0"
    },
    {
      "cell_type": "code",
      "source": [
        "df=pd.DataFrame((y_test.ravel()-dtreeEntropy.predict(X_test_G12).ravel())).value_counts()\n",
        "df"
      ],
      "metadata": {
        "id": "fMS5VewO3KYf",
        "colab": {
          "base_uri": "https://localhost:8080/"
        },
        "outputId": "a608a3b9-202d-452d-e5fb-7d72751a7d87"
      },
      "id": "fMS5VewO3KYf",
      "execution_count": 116,
      "outputs": [
        {
          "output_type": "execute_result",
          "data": {
            "text/plain": [
              " 0    22\n",
              " 1    18\n",
              "-1    14\n",
              "-2     7\n",
              " 2     7\n",
              "-3     2\n",
              "-4     1\n",
              "dtype: int64"
            ]
          },
          "metadata": {},
          "execution_count": 116
        }
      ]
    },
    {
      "cell_type": "markdown",
      "source": [
        "Построим модели деревьев с разными критериями (gini, entropy) с оптимальным параметром max_depth исходя из построенного графика.\n",
        "\n",
        "Другой параметр min_samples_leaf=1 подобран ручным способом."
      ],
      "metadata": {
        "id": "uEYBkkd_TwaF"
      },
      "id": "uEYBkkd_TwaF"
    },
    {
      "cell_type": "code",
      "source": [
        "dtreeGiniParam = DecisionTreeClassifier(random_state=random_state,\n",
        "                                        criterion='gini',\n",
        "                                        max_depth=4,\n",
        "                                        min_samples_leaf=1)#вручную подобранная модель\n",
        "dtreeGiniParam.fit(X_train_G12, y_train)\n",
        "print('gini train accuracy',accuracy_score(y_train, dtreeGiniParam.predict(X_train_G12)))\n",
        "print('gini test accuracy', accuracy_score(y_test,  dtreeGiniParam.predict(X_test_G12)))\n",
        "print('')\n",
        "\n",
        "dtreeEntropParam = DecisionTreeClassifier(random_state=random_state,\n",
        "                               criterion='entropy',\n",
        "                               max_depth=8,\n",
        "                               min_samples_leaf=1)#вручную подобранная модель\n",
        "dtreeEntropParam.fit(X_train_G12, y_train)\n",
        "print('entropy train accuracy',accuracy_score(y_train, dtreeEntropParam.predict(X_train_G12)))\n",
        "print('entropy test accuracy', accuracy_score(y_test,  dtreeEntropParam.predict(X_test_G12)))\n"
      ],
      "metadata": {
        "id": "2LWI1-c4ODRJ",
        "colab": {
          "base_uri": "https://localhost:8080/"
        },
        "outputId": "742f2dc1-5bda-4d8f-ab07-724c5c8098f8"
      },
      "id": "2LWI1-c4ODRJ",
      "execution_count": 117,
      "outputs": [
        {
          "output_type": "stream",
          "name": "stdout",
          "text": [
            "gini train accuracy 0.5428571428571428\n",
            "gini test accuracy 0.36619718309859156\n",
            "\n",
            "entropy train accuracy 0.9321428571428572\n",
            "entropy test accuracy 0.30985915492957744\n"
          ]
        }
      ]
    },
    {
      "cell_type": "markdown",
      "source": [
        "Попробуем подобрать параметры модели DecisionTreeClassifier автоматически через GridSearchCV."
      ],
      "metadata": {
        "id": "XM6dfFtkIo1J"
      },
      "id": "XM6dfFtkIo1J"
    },
    {
      "cell_type": "code",
      "source": [
        "criterion = [\"gini\", \"entropy\", \"log_loss\"]\n",
        "splitter = [\"best\", \"random\"]\n",
        "max_depth = [4, 5, 6, 7, 8]\n",
        "min_samples_split = [4, 5, 6, 7, 8, 9, 10]\n",
        "min_samples_leaf = [1, 2, 4, 6, 8, 10, 12]\n",
        "max_features = [15, 20, 25, len(X_train_G12.columns)]\n",
        "\n",
        "cv = StratifiedKFold(5)\n",
        "\n",
        "grid_searcher_dtreeGiniParam = GridSearchCV(estimator=DecisionTreeClassifier(random_state=random_state),\n",
        "                       cv=cv,\n",
        "                       scoring='accuracy',\n",
        "                       param_grid=dict(criterion=criterion,\n",
        "                                       splitter=splitter,\n",
        "                                       max_depth=max_depth,\n",
        "                                       min_samples_split=min_samples_split,\n",
        "                                       min_samples_leaf=min_samples_leaf,\n",
        "                                       max_features= max_features),\n",
        "                       #refit='Accuracy'\n",
        "                       )\n",
        "grid_searcher_dtreeGiniParam.fit(X_train_G12, y_train)\n",
        "print(\"best param: \", grid_searcher_dtreeGiniParam.best_params_)\n",
        "print(\"best score: \", grid_searcher_dtreeGiniParam.best_score_)\n",
        "\n",
        "print('gini train accuracy',accuracy_score(y_train, grid_searcher_dtreeGiniParam.predict(X_train_G12)))\n",
        "print('gini train accuracy',accuracy_score(y_test, grid_searcher_dtreeGiniParam.predict(X_test_G12)))"
      ],
      "metadata": {
        "id": "bt3yBgYdGPxD",
        "colab": {
          "base_uri": "https://localhost:8080/"
        },
        "outputId": "dc1e9415-33ca-4f33-de1f-cefef045a108"
      },
      "id": "bt3yBgYdGPxD",
      "execution_count": 118,
      "outputs": [
        {
          "output_type": "stream",
          "name": "stdout",
          "text": [
            "best param:  {'criterion': 'gini', 'max_depth': 6, 'max_features': 40, 'min_samples_leaf': 10, 'min_samples_split': 4, 'splitter': 'random'}\n",
            "best score:  0.425\n",
            "gini train accuracy 0.4928571428571429\n",
            "gini train accuracy 0.30985915492957744\n"
          ]
        }
      ]
    },
    {
      "cell_type": "markdown",
      "source": [
        "К сожалению, автоматически подобранные парамеры оказались хуже, чем параметры, подобранные вручную."
      ],
      "metadata": {
        "id": "TLs2zvzDVOIb"
      },
      "id": "TLs2zvzDVOIb"
    },
    {
      "cell_type": "markdown",
      "source": [
        "Вывод: несмотря на то, что все признаки в наборе данных категориальные, и отклик категориальный, ни одна модель классификации не смогла правильно  соотнести к одному из 20-ти классов (баллов) даже половину данных.\n",
        "\n",
        "\n",
        "Наиболее подходящй моделью для наших данных оказалась модель регрессии GradientBoostingRegressor с параметрами по умолчанию. Ее результат оценки r2_score равен 0.897."
      ],
      "metadata": {
        "id": "BfemwkCooRhK"
      },
      "id": "BfemwkCooRhK"
    }
  ],
  "metadata": {
    "kernelspec": {
      "display_name": "Python 3 (ipykernel)",
      "language": "python",
      "name": "python3"
    },
    "language_info": {
      "codemirror_mode": {
        "name": "ipython",
        "version": 3
      },
      "file_extension": ".py",
      "mimetype": "text/x-python",
      "name": "python",
      "nbconvert_exporter": "python",
      "pygments_lexer": "ipython3",
      "version": "3.9.12"
    },
    "colab": {
      "provenance": []
    }
  },
  "nbformat": 4,
  "nbformat_minor": 5
}